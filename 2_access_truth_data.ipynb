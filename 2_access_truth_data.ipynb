{
 "cells": [
  {
   "cell_type": "markdown",
   "id": "70e92218-d47a-482c-8207-ccf463525b3b",
   "metadata": {},
   "source": [
    "# OR3 PZ: Access Truth Data\n",
    "\n",
    "Author: Melissa Graham\n",
    "\n",
    "Last verified to run: Fri Apr 12 2024\n",
    "\n",
    "LSST Science Pipelines version: Weekly 2024_04\n",
    "\n",
    "**Overview** \n",
    "\n",
    "Poke around and see what kind of truth data is available.\n",
    "\n",
    "**Summary**\n",
    "\n",
    "There is OR3 truth data in parquet files, but it is unmatched to `object` table.\n",
    "\n",
    "There is also OR3 truth data in the butler, and some of it is matched -- but it is not clear to me (yet) that it was matched to the `object` table being accessed in notebook 1.\n",
    "\n",
    "Really, we should probably just use DP0.2 and not the OR3 data sets.\n",
    "\n",
    "## Set up\n",
    "\n",
    "Import packages."
   ]
  },
  {
   "cell_type": "code",
   "execution_count": null,
   "id": "07865381-4974-433f-aa39-77ab14a1a776",
   "metadata": {},
   "outputs": [],
   "source": [
    "import numpy as np\n",
    "import pandas as pd\n",
    "import matplotlib.pyplot as plt\n",
    "from lsst.daf.butler import Butler\n",
    "import gc, os"
   ]
  },
  {
   "cell_type": "markdown",
   "id": "1e4bfa81-05ff-4341-9b86-60d1fd3c09ac",
   "metadata": {},
   "source": [
    "## Parquet files\n",
    "\n",
    "Jim Chiang has let us know they're in: \n",
    "`/sdf/data/rubin/shared/ops-rehearsal-3/imSim_catalogs/skyCatalogs`.\n",
    "\n",
    "Jim also says: \"Unfortunately, there isn't any real documentation for the format of those files, but things like the ra, dec, and redshift values should be easy to find. I can help with specific questions. The parquet files are labled by healpix id, but they may not be the same as the tract numbers for a particular skymap.  For the skyCatalogs, the RING numbering and nside=32 were used with ra, dec.\"\n",
    "\n",
    "The down side of using the parquet file truth data is that we would have to do the cross-matching ourselves.\n",
    "\n",
    "Option to list relevant files."
   ]
  },
  {
   "cell_type": "code",
   "execution_count": null,
   "id": "9edbbc62-3f99-4d8e-916e-b38723dde351",
   "metadata": {},
   "outputs": [],
   "source": [
    "# path = '/sdf/data/rubin/shared/ops-rehearsal-3/imSim_catalogs/skyCatalogs'\n",
    "# os.system('ls + ' + path)\n",
    "# os.system('ls + ' + path + '/galaxy*parquet')"
   ]
  },
  {
   "cell_type": "markdown",
   "id": "825d9869-487c-4b25-9270-05ec756941ef",
   "metadata": {},
   "source": [
    "They have very different sizes. \n",
    "\n",
    "```\n",
    "-rw-r--r-- 1 7485 rubin_users 2.6G Feb  8 19:32 galaxy_7436.parquet\n",
    "-rw-r--r-- 1 7485 rubin_users 152M Mar  4 01:40 galaxy_flux_7436.parquet\n",
    "```\n",
    "\n",
    "The smaller file can be read in full with pandas.\n",
    "\n",
    "The bigger file, would have to use `dask` or `pyarrow` (see a demo in <a href=\"https://github.com/rubin-dp0/delegate-contributions-dp02/blob/main/desc_truth/read_truth_parquet_files.ipynb\">this DP0.2 notebook</a>).\n",
    "\n",
    "However it looks like `ra`, `dec`, and `redshift` are in the smaller file and that's probably all we'd need."
   ]
  },
  {
   "cell_type": "code",
   "execution_count": null,
   "id": "2e42bb79-15bb-4b38-85e2-52039e96e2b2",
   "metadata": {},
   "outputs": [],
   "source": [
    "fnm = '/sdf/data/rubin/shared/ops-rehearsal-3/imSim_catalogs/skyCatalogs/galaxy_7436.parquet'\n",
    "galaxy_tract = pd.read_parquet(fnm)"
   ]
  },
  {
   "cell_type": "markdown",
   "id": "9a330c27-4dc1-4764-9809-532d9092f487",
   "metadata": {},
   "source": [
    "Option to show the full table."
   ]
  },
  {
   "cell_type": "code",
   "execution_count": null,
   "id": "c0155210-7d90-48e9-a29e-34731779c808",
   "metadata": {},
   "outputs": [],
   "source": [
    "galaxy_tract"
   ]
  },
  {
   "cell_type": "markdown",
   "id": "4f5ae39b-ce0c-497c-9fc6-cd006dcd8b53",
   "metadata": {},
   "source": [
    "## Butler \n",
    "\n",
    "I got this repo and collection from Dan Taranu."
   ]
  },
  {
   "cell_type": "code",
   "execution_count": null,
   "id": "efa568da-8335-408e-ba81-c485981fde91",
   "metadata": {},
   "outputs": [],
   "source": [
    "repo = '/repo/dc2'\n",
    "collection = '2.2i/runs/test-med-1/w_2024_12/DM-43400'\n",
    "butler = Butler(repo, collections=collection)\n",
    "registry = butler.registry"
   ]
  },
  {
   "cell_type": "markdown",
   "id": "b89920e4-d37f-4e49-82a1-2dc6e21a55ec",
   "metadata": {},
   "source": [
    "Option to print all data types related to truth."
   ]
  },
  {
   "cell_type": "code",
   "execution_count": null,
   "id": "92a734c3-be82-4764-a869-88bb3e70db2f",
   "metadata": {},
   "outputs": [],
   "source": [
    "# for dtype in sorted(registry.queryDatasetTypes(expression=\"*truth*\")):\n",
    "#     print(dtype.name)"
   ]
  },
  {
   "cell_type": "markdown",
   "id": "dd8e4831-9123-4691-ac8c-bdac534f0611",
   "metadata": {},
   "source": [
    "The tables of interest are:\n",
    "\n",
    "```\n",
    "truth_summary\n",
    "match_ref_truth_summary_objectTable_tract\n",
    "match_target_truth_summary_objectTable_tract\n",
    "matched_truth_summary_objectTable_tract\n",
    "```"
   ]
  },
  {
   "cell_type": "markdown",
   "id": "04718fdd-fb67-460c-8e0d-5a29d1e0a2d0",
   "metadata": {},
   "source": [
    "### The truth summary table"
   ]
  },
  {
   "cell_type": "code",
   "execution_count": null,
   "id": "66e6bc4c-dc75-4127-a304-1b32ddcbbd18",
   "metadata": {},
   "outputs": [],
   "source": [
    "ts_refs = list(butler.registry.queryDatasets('truth_summary'))\n",
    "print(len(ts_refs))\n",
    "for i, ref in enumerate(ts_refs):\n",
    "    if i == 0:\n",
    "        print(ref.dataId)"
   ]
  },
  {
   "cell_type": "markdown",
   "id": "eb8d212c-4784-41ef-8597-8afe8b6f3941",
   "metadata": {},
   "source": [
    "I'm not sure what the `storageClass` parameter means or why it's needed, but got this from Dan also."
   ]
  },
  {
   "cell_type": "code",
   "execution_count": null,
   "id": "5dd57884-8c3b-46c4-a1ab-842aee7a3040",
   "metadata": {},
   "outputs": [],
   "source": [
    "dataId = {'skymap': 'DC2', 'tract': 2723}\n",
    "truth_summary = butler.get('truth_summary', dataId=dataId, storageClass=\"ArrowAstropy\")"
   ]
  },
  {
   "cell_type": "markdown",
   "id": "fb282c5c-267b-4a81-a22b-cc78646325cb",
   "metadata": {},
   "source": [
    "Option to show full `truth_summary` or just the columns."
   ]
  },
  {
   "cell_type": "code",
   "execution_count": null,
   "id": "25c771e3-ae2a-4c98-a637-978e22450bc4",
   "metadata": {},
   "outputs": [],
   "source": [
    "# truth_summary"
   ]
  },
  {
   "cell_type": "code",
   "execution_count": null,
   "id": "1a222e99-99c9-42b5-bc19-27f3727bd477",
   "metadata": {},
   "outputs": [],
   "source": [
    "truth_summary.columns"
   ]
  },
  {
   "cell_type": "markdown",
   "id": "4b08daa8-e2aa-4287-a532-596bf390e61c",
   "metadata": {
    "execution": {
     "iopub.execute_input": "2024-04-12T20:20:35.661639Z",
     "iopub.status.busy": "2024-04-12T20:20:35.661224Z",
     "iopub.status.idle": "2024-04-12T20:20:35.665589Z",
     "shell.execute_reply": "2024-04-12T20:20:35.665195Z",
     "shell.execute_reply.started": "2024-04-12T20:20:35.661622Z"
    }
   },
   "source": [
    "### The match tables\n",
    "\n",
    "They do contain `match_objectId` columns **BUT** there is no gaurantee that\n",
    "these are the same `objectId` as in the butler repo and collection for the DRP processing we were using in the first notebook.\n",
    "\n",
    "Plus, the match tables have only two tracts so... I think these aren't to be used."
   ]
  },
  {
   "cell_type": "code",
   "execution_count": null,
   "id": "dfd6b823-c0d5-4cd8-aedc-2f621a8e5739",
   "metadata": {},
   "outputs": [],
   "source": [
    "mts_refs = list(butler.registry.queryDatasets('match_ref_truth_summary_objectTable_tract'))\n",
    "print(len(mts_refs))\n",
    "for i, ref in enumerate(mts_refs):\n",
    "    print(ref.dataId)\n",
    "\n",
    "mts_refs = list(butler.registry.queryDatasets('match_target_truth_summary_objectTable_tract'))\n",
    "print(len(mts_refs))\n",
    "for i, ref in enumerate(mts_refs):\n",
    "    print(ref.dataId)\n",
    "\n",
    "mts_refs = list(butler.registry.queryDatasets('matched_truth_summary_objectTable_tract'))\n",
    "print(len(mts_refs))\n",
    "for i, ref in enumerate(mts_refs):\n",
    "    print(ref.dataId)"
   ]
  },
  {
   "cell_type": "code",
   "execution_count": null,
   "id": "63db253c-936b-4108-95b3-88834f3b75db",
   "metadata": {},
   "outputs": [],
   "source": [
    "dataId = {'skymap': 'DC2', 'tract': 3828}"
   ]
  },
  {
   "cell_type": "markdown",
   "id": "7b760a2b-6928-4fac-a0e2-616e3168ce31",
   "metadata": {},
   "source": [
    "Take a peek at each of the three versions of the matched tables. They do have `match_objectId`."
   ]
  },
  {
   "cell_type": "code",
   "execution_count": null,
   "id": "05470ba3-7b5f-4d1e-bc66-09e046671f27",
   "metadata": {},
   "outputs": [],
   "source": [
    "matched_truth_summary = butler.get('match_ref_truth_summary_objectTable_tract', dataId=dataId, storageClass=\"ArrowAstropy\")"
   ]
  },
  {
   "cell_type": "code",
   "execution_count": null,
   "id": "e12b50b3-f95a-4cab-b4d0-69383b6c3a35",
   "metadata": {},
   "outputs": [],
   "source": [
    "# matched_truth_summary\n",
    "matched_truth_summary.columns"
   ]
  },
  {
   "cell_type": "code",
   "execution_count": null,
   "id": "4298183e-8d4b-4edd-9893-7eede38e7fec",
   "metadata": {},
   "outputs": [],
   "source": [
    "matched_truth_summary = butler.get('match_target_truth_summary_objectTable_tract', dataId=dataId, storageClass=\"ArrowAstropy\")"
   ]
  },
  {
   "cell_type": "code",
   "execution_count": null,
   "id": "924edaf5-28d9-4154-8aa8-fcd846ce0a36",
   "metadata": {},
   "outputs": [],
   "source": [
    "# matched_truth_summary\n",
    "matched_truth_summary.columns"
   ]
  },
  {
   "cell_type": "code",
   "execution_count": null,
   "id": "8755fea2-b765-4fcd-9c28-217ffa66ba1d",
   "metadata": {},
   "outputs": [],
   "source": [
    "matched_truth_summary = butler.get('matched_truth_summary_objectTable_tract', dataId=dataId, storageClass=\"ArrowAstropy\")"
   ]
  },
  {
   "cell_type": "code",
   "execution_count": null,
   "id": "5eb6725d-b819-44dc-96b3-2af6504ccc08",
   "metadata": {},
   "outputs": [],
   "source": [
    "# matched_truth_summary\n",
    "matched_truth_summary.columns"
   ]
  },
  {
   "cell_type": "code",
   "execution_count": null,
   "id": "b22b6962-58f0-410a-8c60-3a0cdf45891b",
   "metadata": {},
   "outputs": [],
   "source": []
  }
 ],
 "metadata": {
  "kernelspec": {
   "display_name": "LSST",
   "language": "python",
   "name": "lsst"
  },
  "language_info": {
   "codemirror_mode": {
    "name": "ipython",
    "version": 3
   },
   "file_extension": ".py",
   "mimetype": "text/x-python",
   "name": "python",
   "nbconvert_exporter": "python",
   "pygments_lexer": "ipython3",
   "version": "3.11.7"
  }
 },
 "nbformat": 4,
 "nbformat_minor": 5
}
