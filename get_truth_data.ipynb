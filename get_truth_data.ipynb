{
 "cells": [
  {
   "cell_type": "markdown",
   "id": "70e92218-d47a-482c-8207-ccf463525b3b",
   "metadata": {},
   "source": [
    "# OR3 Truth Data"
   ]
  },
  {
   "cell_type": "code",
   "execution_count": 1,
   "id": "07865381-4974-433f-aa39-77ab14a1a776",
   "metadata": {
    "execution": {
     "iopub.execute_input": "2024-04-10T15:29:03.479935Z",
     "iopub.status.busy": "2024-04-10T15:29:03.479706Z",
     "iopub.status.idle": "2024-04-10T15:29:04.276720Z",
     "shell.execute_reply": "2024-04-10T15:29:04.276231Z",
     "shell.execute_reply.started": "2024-04-10T15:29:03.479917Z"
    }
   },
   "outputs": [],
   "source": [
    "import numpy as np\n",
    "import matplotlib.pyplot as plt\n",
    "from lsst.daf.butler import Butler\n",
    "import gc"
   ]
  },
  {
   "cell_type": "code",
   "execution_count": 8,
   "id": "efa568da-8335-408e-ba81-c485981fde91",
   "metadata": {
    "execution": {
     "iopub.execute_input": "2024-04-10T15:31:58.452399Z",
     "iopub.status.busy": "2024-04-10T15:31:58.451911Z",
     "iopub.status.idle": "2024-04-10T15:31:58.595006Z",
     "shell.execute_reply": "2024-04-10T15:31:58.594374Z",
     "shell.execute_reply.started": "2024-04-10T15:31:58.452382Z"
    }
   },
   "outputs": [
    {
     "data": {
      "text/html": [
       "<pre style=\"margin: 0.1em;\n",
       "padding-left: 0.25em;\n",
       "border-left-style: solid;\n",
       "font-family: var(--jp-code-font-family);\n",
       "font-size: var(--jp-code-font-size);\n",
       "line-height: var(--jp-code-line-height);\n",
       "\"><span style=\"color: var(--jp-warn-color2)\">lsst.daf.butler.direct_butler</span> <span style=\"color: var(--jp-error-color2)\">ERROR</span>: Failed to instantiate Butler from config file:///sdf/group/rubin/repo/dc2/butler.yaml.</pre>"
      ],
      "text/plain": [
       "<IPython.core.display.HTML object>"
      ]
     },
     "metadata": {},
     "output_type": "display_data"
    },
    {
     "ename": "TypeError",
     "evalue": "Only governor dimensions may be identified by a default data ID, not {'collection'}.  (These may just be unrecognized keyword arguments passed at Butler construction.)",
     "output_type": "error",
     "traceback": [
      "\u001b[0;31m---------------------------------------------------------------------------\u001b[0m",
      "\u001b[0;31mTypeError\u001b[0m                                 Traceback (most recent call last)",
      "Cell \u001b[0;32mIn[8], line 1\u001b[0m\n\u001b[0;32m----> 1\u001b[0m butler \u001b[38;5;241m=\u001b[39m \u001b[43mButler\u001b[49m\u001b[43m(\u001b[49m\u001b[38;5;124;43m'\u001b[39;49m\u001b[38;5;124;43m/repo/dc2\u001b[39;49m\u001b[38;5;124;43m'\u001b[39;49m\u001b[43m,\u001b[49m\u001b[43m \u001b[49m\u001b[43mcollection\u001b[49m\u001b[38;5;241;43m=\u001b[39;49m\u001b[38;5;124;43m'\u001b[39;49m\u001b[38;5;124;43m2.2i/runs/test-med-1/w_2024_12/DM-43400\u001b[39;49m\u001b[38;5;124;43m'\u001b[39;49m\u001b[43m)\u001b[49m\n\u001b[1;32m      2\u001b[0m registry \u001b[38;5;241m=\u001b[39m butler\u001b[38;5;241m.\u001b[39mregistry\n",
      "File \u001b[0;32m/opt/lsst/software/stack/stack/miniconda3-py38_4.9.2-8.0.0/Linux64/daf_butler/g6af44e7a1a+043fa2f30f/python/lsst/daf/butler/_butler.py:136\u001b[0m, in \u001b[0;36mButler.__new__\u001b[0;34m(cls, config, collections, run, searchPaths, writeable, inferDefaults, without_datastore, **kwargs)\u001b[0m\n\u001b[1;32m    123\u001b[0m \u001b[38;5;28;01mdef\u001b[39;00m \u001b[38;5;21m__new__\u001b[39m(\n\u001b[1;32m    124\u001b[0m     \u001b[38;5;28mcls\u001b[39m,\n\u001b[1;32m    125\u001b[0m     config: Config \u001b[38;5;241m|\u001b[39m ResourcePathExpression \u001b[38;5;241m|\u001b[39m \u001b[38;5;28;01mNone\u001b[39;00m \u001b[38;5;241m=\u001b[39m \u001b[38;5;28;01mNone\u001b[39;00m,\n\u001b[0;32m   (...)\u001b[0m\n\u001b[1;32m    133\u001b[0m     \u001b[38;5;241m*\u001b[39m\u001b[38;5;241m*\u001b[39mkwargs: Any,\n\u001b[1;32m    134\u001b[0m ) \u001b[38;5;241m-\u001b[39m\u001b[38;5;241m>\u001b[39m Butler:\n\u001b[1;32m    135\u001b[0m     \u001b[38;5;28;01mif\u001b[39;00m \u001b[38;5;28mcls\u001b[39m \u001b[38;5;129;01mis\u001b[39;00m Butler:\n\u001b[0;32m--> 136\u001b[0m         \u001b[38;5;28;01mreturn\u001b[39;00m \u001b[43mButler\u001b[49m\u001b[38;5;241;43m.\u001b[39;49m\u001b[43mfrom_config\u001b[49m\u001b[43m(\u001b[49m\n\u001b[1;32m    137\u001b[0m \u001b[43m            \u001b[49m\u001b[43mconfig\u001b[49m\u001b[38;5;241;43m=\u001b[39;49m\u001b[43mconfig\u001b[49m\u001b[43m,\u001b[49m\n\u001b[1;32m    138\u001b[0m \u001b[43m            \u001b[49m\u001b[43mcollections\u001b[49m\u001b[38;5;241;43m=\u001b[39;49m\u001b[43mcollections\u001b[49m\u001b[43m,\u001b[49m\n\u001b[1;32m    139\u001b[0m \u001b[43m            \u001b[49m\u001b[43mrun\u001b[49m\u001b[38;5;241;43m=\u001b[39;49m\u001b[43mrun\u001b[49m\u001b[43m,\u001b[49m\n\u001b[1;32m    140\u001b[0m \u001b[43m            \u001b[49m\u001b[43msearchPaths\u001b[49m\u001b[38;5;241;43m=\u001b[39;49m\u001b[43msearchPaths\u001b[49m\u001b[43m,\u001b[49m\n\u001b[1;32m    141\u001b[0m \u001b[43m            \u001b[49m\u001b[43mwriteable\u001b[49m\u001b[38;5;241;43m=\u001b[39;49m\u001b[43mwriteable\u001b[49m\u001b[43m,\u001b[49m\n\u001b[1;32m    142\u001b[0m \u001b[43m            \u001b[49m\u001b[43minferDefaults\u001b[49m\u001b[38;5;241;43m=\u001b[39;49m\u001b[43minferDefaults\u001b[49m\u001b[43m,\u001b[49m\n\u001b[1;32m    143\u001b[0m \u001b[43m            \u001b[49m\u001b[43mwithout_datastore\u001b[49m\u001b[38;5;241;43m=\u001b[39;49m\u001b[43mwithout_datastore\u001b[49m\u001b[43m,\u001b[49m\n\u001b[1;32m    144\u001b[0m \u001b[43m            \u001b[49m\u001b[38;5;241;43m*\u001b[39;49m\u001b[38;5;241;43m*\u001b[39;49m\u001b[43mkwargs\u001b[49m\u001b[43m,\u001b[49m\n\u001b[1;32m    145\u001b[0m \u001b[43m        \u001b[49m\u001b[43m)\u001b[49m\n\u001b[1;32m    147\u001b[0m     \u001b[38;5;66;03m# Note: we do not pass any parameters to __new__, Python will pass them\u001b[39;00m\n\u001b[1;32m    148\u001b[0m     \u001b[38;5;66;03m# to __init__ after __new__ returns sub-class instance.\u001b[39;00m\n\u001b[1;32m    149\u001b[0m     \u001b[38;5;28;01mreturn\u001b[39;00m \u001b[38;5;28msuper\u001b[39m()\u001b[38;5;241m.\u001b[39m\u001b[38;5;21m__new__\u001b[39m(\u001b[38;5;28mcls\u001b[39m)\n",
      "File \u001b[0;32m/opt/lsst/software/stack/stack/miniconda3-py38_4.9.2-8.0.0/Linux64/daf_butler/g6af44e7a1a+043fa2f30f/python/lsst/daf/butler/_butler.py:301\u001b[0m, in \u001b[0;36mButler.from_config\u001b[0;34m(cls, config, collections, run, searchPaths, writeable, inferDefaults, without_datastore, **kwargs)\u001b[0m\n\u001b[1;32m    298\u001b[0m \u001b[38;5;28;01mcase\u001b[39;00m ButlerType\u001b[38;5;241m.\u001b[39mDIRECT:\n\u001b[1;32m    299\u001b[0m     \u001b[38;5;28;01mfrom\u001b[39;00m \u001b[38;5;21;01m.\u001b[39;00m\u001b[38;5;21;01mdirect_butler\u001b[39;00m \u001b[38;5;28;01mimport\u001b[39;00m DirectButler\n\u001b[0;32m--> 301\u001b[0m     \u001b[38;5;28;01mreturn\u001b[39;00m \u001b[43mDirectButler\u001b[49m\u001b[38;5;241;43m.\u001b[39;49m\u001b[43mcreate_from_config\u001b[49m\u001b[43m(\u001b[49m\n\u001b[1;32m    302\u001b[0m \u001b[43m        \u001b[49m\u001b[43mbutler_config\u001b[49m\u001b[43m,\u001b[49m\n\u001b[1;32m    303\u001b[0m \u001b[43m        \u001b[49m\u001b[43moptions\u001b[49m\u001b[38;5;241;43m=\u001b[39;49m\u001b[43moptions\u001b[49m\u001b[43m,\u001b[49m\n\u001b[1;32m    304\u001b[0m \u001b[43m        \u001b[49m\u001b[43mwithout_datastore\u001b[49m\u001b[38;5;241;43m=\u001b[39;49m\u001b[43mwithout_datastore\u001b[49m\u001b[43m,\u001b[49m\n\u001b[1;32m    305\u001b[0m \u001b[43m    \u001b[49m\u001b[43m)\u001b[49m\n\u001b[1;32m    306\u001b[0m \u001b[38;5;28;01mcase\u001b[39;00m ButlerType\u001b[38;5;241m.\u001b[39mREMOTE:\n\u001b[1;32m    307\u001b[0m     \u001b[38;5;28;01mfrom\u001b[39;00m \u001b[38;5;21;01m.\u001b[39;00m\u001b[38;5;21;01mremote_butler\u001b[39;00m \u001b[38;5;28;01mimport\u001b[39;00m RemoteButlerFactory\n",
      "File \u001b[0;32m/opt/lsst/software/stack/stack/miniconda3-py38_4.9.2-8.0.0/Linux64/daf_butler/g6af44e7a1a+043fa2f30f/python/lsst/daf/butler/direct_butler.py:200\u001b[0m, in \u001b[0;36mDirectButler.create_from_config\u001b[0;34m(cls, config, options, without_datastore)\u001b[0m\n\u001b[1;32m    198\u001b[0m \u001b[38;5;28;01mif\u001b[39;00m writeable \u001b[38;5;129;01mis\u001b[39;00m \u001b[38;5;28;01mNone\u001b[39;00m:\n\u001b[1;32m    199\u001b[0m     writeable \u001b[38;5;241m=\u001b[39m options\u001b[38;5;241m.\u001b[39mrun \u001b[38;5;129;01mis\u001b[39;00m \u001b[38;5;129;01mnot\u001b[39;00m \u001b[38;5;28;01mNone\u001b[39;00m\n\u001b[0;32m--> 200\u001b[0m registry \u001b[38;5;241m=\u001b[39m \u001b[43m_RegistryFactory\u001b[49m\u001b[43m(\u001b[49m\u001b[43mconfig\u001b[49m\u001b[43m)\u001b[49m\u001b[38;5;241;43m.\u001b[39;49m\u001b[43mfrom_config\u001b[49m\u001b[43m(\u001b[49m\n\u001b[1;32m    201\u001b[0m \u001b[43m    \u001b[49m\u001b[43mbutlerRoot\u001b[49m\u001b[38;5;241;43m=\u001b[39;49m\u001b[43mbutlerRoot\u001b[49m\u001b[43m,\u001b[49m\u001b[43m \u001b[49m\u001b[43mwriteable\u001b[49m\u001b[38;5;241;43m=\u001b[39;49m\u001b[43mwriteable\u001b[49m\u001b[43m,\u001b[49m\u001b[43m \u001b[49m\u001b[43mdefaults\u001b[49m\u001b[38;5;241;43m=\u001b[39;49m\u001b[43mdefaults\u001b[49m\n\u001b[1;32m    202\u001b[0m \u001b[43m\u001b[49m\u001b[43m)\u001b[49m\n\u001b[1;32m    203\u001b[0m \u001b[38;5;28;01mif\u001b[39;00m without_datastore:\n\u001b[1;32m    204\u001b[0m     datastore: Datastore \u001b[38;5;241m=\u001b[39m NullDatastore(\u001b[38;5;28;01mNone\u001b[39;00m, \u001b[38;5;28;01mNone\u001b[39;00m)\n",
      "File \u001b[0;32m/opt/lsst/software/stack/stack/miniconda3-py38_4.9.2-8.0.0/Linux64/daf_butler/g6af44e7a1a+043fa2f30f/python/lsst/daf/butler/registry/_registry_factory.py:138\u001b[0m, in \u001b[0;36m_RegistryFactory.from_config\u001b[0;34m(self, butlerRoot, writeable, defaults)\u001b[0m\n\u001b[1;32m    113\u001b[0m \u001b[38;5;28;01mdef\u001b[39;00m \u001b[38;5;21mfrom_config\u001b[39m(\n\u001b[1;32m    114\u001b[0m     \u001b[38;5;28mself\u001b[39m,\n\u001b[1;32m    115\u001b[0m     butlerRoot: ResourcePathExpression \u001b[38;5;241m|\u001b[39m \u001b[38;5;28;01mNone\u001b[39;00m \u001b[38;5;241m=\u001b[39m \u001b[38;5;28;01mNone\u001b[39;00m,\n\u001b[1;32m    116\u001b[0m     writeable: \u001b[38;5;28mbool\u001b[39m \u001b[38;5;241m=\u001b[39m \u001b[38;5;28;01mTrue\u001b[39;00m,\n\u001b[1;32m    117\u001b[0m     defaults: RegistryDefaults \u001b[38;5;241m|\u001b[39m \u001b[38;5;28;01mNone\u001b[39;00m \u001b[38;5;241m=\u001b[39m \u001b[38;5;28;01mNone\u001b[39;00m,\n\u001b[1;32m    118\u001b[0m ) \u001b[38;5;241m-\u001b[39m\u001b[38;5;241m>\u001b[39m SqlRegistry:\n\u001b[1;32m    119\u001b[0m \u001b[38;5;250m    \u001b[39m\u001b[38;5;124;03m\"\"\"Create `SqlRegistry` subclass instance from ``config``.\u001b[39;00m\n\u001b[1;32m    120\u001b[0m \n\u001b[1;32m    121\u001b[0m \u001b[38;5;124;03m    Registry database must be initialized prior to calling this method.\u001b[39;00m\n\u001b[0;32m   (...)\u001b[0m\n\u001b[1;32m    136\u001b[0m \u001b[38;5;124;03m        A new `SqlRegistry` subclass instance.\u001b[39;00m\n\u001b[1;32m    137\u001b[0m \u001b[38;5;124;03m    \"\"\"\u001b[39;00m\n\u001b[0;32m--> 138\u001b[0m     \u001b[38;5;28;01mreturn\u001b[39;00m \u001b[38;5;28;43mself\u001b[39;49m\u001b[38;5;241;43m.\u001b[39;49m\u001b[43m_registry_cls\u001b[49m\u001b[38;5;241;43m.\u001b[39;49m\u001b[43mfromConfig\u001b[49m\u001b[43m(\u001b[49m\u001b[38;5;28;43mself\u001b[39;49m\u001b[38;5;241;43m.\u001b[39;49m\u001b[43m_config\u001b[49m\u001b[43m,\u001b[49m\u001b[43m \u001b[49m\u001b[43mbutlerRoot\u001b[49m\u001b[43m,\u001b[49m\u001b[43m \u001b[49m\u001b[43mwriteable\u001b[49m\u001b[43m,\u001b[49m\u001b[43m \u001b[49m\u001b[43mdefaults\u001b[49m\u001b[43m)\u001b[49m\n",
      "File \u001b[0;32m/opt/lsst/software/stack/stack/miniconda3-py38_4.9.2-8.0.0/Linux64/daf_butler/g6af44e7a1a+043fa2f30f/python/lsst/daf/butler/registry/sql_registry.py:239\u001b[0m, in \u001b[0;36mSqlRegistry.fromConfig\u001b[0;34m(cls, config, butlerRoot, writeable, defaults)\u001b[0m\n\u001b[1;32m    237\u001b[0m \u001b[38;5;28;01mif\u001b[39;00m defaults \u001b[38;5;129;01mis\u001b[39;00m \u001b[38;5;28;01mNone\u001b[39;00m:\n\u001b[1;32m    238\u001b[0m     defaults \u001b[38;5;241m=\u001b[39m RegistryDefaults()\n\u001b[0;32m--> 239\u001b[0m \u001b[38;5;28;01mreturn\u001b[39;00m \u001b[38;5;28;43mcls\u001b[39;49m\u001b[43m(\u001b[49m\u001b[43mdatabase\u001b[49m\u001b[43m,\u001b[49m\u001b[43m \u001b[49m\u001b[43mdefaults\u001b[49m\u001b[43m,\u001b[49m\u001b[43m \u001b[49m\u001b[43mmanagers\u001b[49m\u001b[43m)\u001b[49m\n",
      "File \u001b[0;32m/opt/lsst/software/stack/stack/miniconda3-py38_4.9.2-8.0.0/Linux64/daf_butler/g6af44e7a1a+043fa2f30f/python/lsst/daf/butler/registry/sql_registry.py:259\u001b[0m, in \u001b[0;36mSqlRegistry.__init__\u001b[0;34m(self, database, defaults, managers)\u001b[0m\n\u001b[1;32m    252\u001b[0m \u001b[38;5;28mself\u001b[39m\u001b[38;5;241m.\u001b[39mdimension_record_cache \u001b[38;5;241m=\u001b[39m DimensionRecordCache(\n\u001b[1;32m    253\u001b[0m     \u001b[38;5;28mself\u001b[39m\u001b[38;5;241m.\u001b[39m_managers\u001b[38;5;241m.\u001b[39mdimensions\u001b[38;5;241m.\u001b[39muniverse,\n\u001b[1;32m    254\u001b[0m     fetch\u001b[38;5;241m=\u001b[39m\u001b[38;5;28mself\u001b[39m\u001b[38;5;241m.\u001b[39m_managers\u001b[38;5;241m.\u001b[39mdimensions\u001b[38;5;241m.\u001b[39mfetch_cache_dict,\n\u001b[1;32m    255\u001b[0m )\n\u001b[1;32m    256\u001b[0m \u001b[38;5;66;03m# Intentionally invoke property setter to initialize defaults.  This\u001b[39;00m\n\u001b[1;32m    257\u001b[0m \u001b[38;5;66;03m# can only be done after most of the rest of Registry has already been\u001b[39;00m\n\u001b[1;32m    258\u001b[0m \u001b[38;5;66;03m# initialized, and must be done before the property getter is used.\u001b[39;00m\n\u001b[0;32m--> 259\u001b[0m \u001b[38;5;28;43mself\u001b[39;49m\u001b[38;5;241;43m.\u001b[39;49m\u001b[43mdefaults\u001b[49m \u001b[38;5;241m=\u001b[39m defaults\n\u001b[1;32m    260\u001b[0m \u001b[38;5;66;03m# TODO: This is currently initialized by `make_datastore_tables`,\u001b[39;00m\n\u001b[1;32m    261\u001b[0m \u001b[38;5;66;03m# eventually we'll need to do it during construction.\u001b[39;00m\n\u001b[1;32m    262\u001b[0m \u001b[38;5;66;03m# The mapping is indexed by the opaque table name.\u001b[39;00m\n\u001b[1;32m    263\u001b[0m \u001b[38;5;28mself\u001b[39m\u001b[38;5;241m.\u001b[39m_datastore_record_classes: Mapping[\u001b[38;5;28mstr\u001b[39m, \u001b[38;5;28mtype\u001b[39m[StoredDatastoreItemInfo]] \u001b[38;5;241m=\u001b[39m {}\n",
      "File \u001b[0;32m/opt/lsst/software/stack/stack/miniconda3-py38_4.9.2-8.0.0/Linux64/daf_butler/g6af44e7a1a+043fa2f30f/python/lsst/daf/butler/registry/sql_registry.py:326\u001b[0m, in \u001b[0;36mSqlRegistry.defaults\u001b[0;34m(self, value)\u001b[0m\n\u001b[1;32m    324\u001b[0m \u001b[38;5;28;01mif\u001b[39;00m value\u001b[38;5;241m.\u001b[39mrun \u001b[38;5;129;01mis\u001b[39;00m \u001b[38;5;129;01mnot\u001b[39;00m \u001b[38;5;28;01mNone\u001b[39;00m:\n\u001b[1;32m    325\u001b[0m     \u001b[38;5;28mself\u001b[39m\u001b[38;5;241m.\u001b[39mregisterRun(value\u001b[38;5;241m.\u001b[39mrun)\n\u001b[0;32m--> 326\u001b[0m \u001b[43mvalue\u001b[49m\u001b[38;5;241;43m.\u001b[39;49m\u001b[43mfinish\u001b[49m\u001b[43m(\u001b[49m\u001b[38;5;28;43mself\u001b[39;49m\u001b[43m)\u001b[49m\n\u001b[1;32m    327\u001b[0m \u001b[38;5;28mself\u001b[39m\u001b[38;5;241m.\u001b[39m_defaults \u001b[38;5;241m=\u001b[39m value\n",
      "File \u001b[0;32m/opt/lsst/software/stack/stack/miniconda3-py38_4.9.2-8.0.0/Linux64/daf_butler/g6af44e7a1a+043fa2f30f/python/lsst/daf/butler/registry/_defaults.py:130\u001b[0m, in \u001b[0;36mRegistryDefaults.finish\u001b[0;34m(self, registry)\u001b[0m\n\u001b[1;32m    128\u001b[0m allGovernorDimensions \u001b[38;5;241m=\u001b[39m registry\u001b[38;5;241m.\u001b[39mdimensions\u001b[38;5;241m.\u001b[39mgovernor_dimensions\n\u001b[1;32m    129\u001b[0m \u001b[38;5;28;01mif\u001b[39;00m \u001b[38;5;129;01mnot\u001b[39;00m \u001b[38;5;28mself\u001b[39m\u001b[38;5;241m.\u001b[39m_kwargs\u001b[38;5;241m.\u001b[39mkeys() \u001b[38;5;241m<\u001b[39m\u001b[38;5;241m=\u001b[39m allGovernorDimensions\u001b[38;5;241m.\u001b[39mnames:\n\u001b[0;32m--> 130\u001b[0m     \u001b[38;5;28;01mraise\u001b[39;00m \u001b[38;5;167;01mTypeError\u001b[39;00m(\n\u001b[1;32m    131\u001b[0m         \u001b[38;5;124m\"\u001b[39m\u001b[38;5;124mOnly governor dimensions may be identified by a default data \u001b[39m\u001b[38;5;124m\"\u001b[39m\n\u001b[1;32m    132\u001b[0m         \u001b[38;5;124mf\u001b[39m\u001b[38;5;124m\"\u001b[39m\u001b[38;5;124mID, not \u001b[39m\u001b[38;5;132;01m{\u001b[39;00m\u001b[38;5;28mself\u001b[39m\u001b[38;5;241m.\u001b[39m_kwargs\u001b[38;5;241m.\u001b[39mkeys()\u001b[38;5;250m \u001b[39m\u001b[38;5;241m-\u001b[39m\u001b[38;5;250m \u001b[39mallGovernorDimensions\u001b[38;5;241m.\u001b[39mnames\u001b[38;5;132;01m}\u001b[39;00m\u001b[38;5;124m.  \u001b[39m\u001b[38;5;124m\"\u001b[39m\n\u001b[1;32m    133\u001b[0m         \u001b[38;5;124m\"\u001b[39m\u001b[38;5;124m(These may just be unrecognized keyword arguments passed at \u001b[39m\u001b[38;5;124m\"\u001b[39m\n\u001b[1;32m    134\u001b[0m         \u001b[38;5;124m\"\u001b[39m\u001b[38;5;124mButler construction.)\u001b[39m\u001b[38;5;124m\"\u001b[39m\n\u001b[1;32m    135\u001b[0m     )\n\u001b[1;32m    136\u001b[0m \u001b[38;5;28;01mif\u001b[39;00m \u001b[38;5;28mself\u001b[39m\u001b[38;5;241m.\u001b[39m_infer \u001b[38;5;129;01mand\u001b[39;00m \u001b[38;5;28mself\u001b[39m\u001b[38;5;241m.\u001b[39m_kwargs\u001b[38;5;241m.\u001b[39mkeys() \u001b[38;5;241m!=\u001b[39m allGovernorDimensions\u001b[38;5;241m.\u001b[39mnames:\n\u001b[1;32m    137\u001b[0m     summaries \u001b[38;5;241m=\u001b[39m []\n",
      "\u001b[0;31mTypeError\u001b[0m: Only governor dimensions may be identified by a default data ID, not {'collection'}.  (These may just be unrecognized keyword arguments passed at Butler construction.)"
     ]
    }
   ],
   "source": [
    "butler = Butler('/repo/dc2', collection='2.2i/runs/test-med-1/w_2024_12/DM-43400')\n",
    "registry = butler.registry"
   ]
  },
  {
   "cell_type": "code",
   "execution_count": null,
   "id": "92a734c3-be82-4764-a869-88bb3e70db2f",
   "metadata": {},
   "outputs": [],
   "source": []
  },
  {
   "cell_type": "code",
   "execution_count": 7,
   "id": "5dd57884-8c3b-46c4-a1ab-842aee7a3040",
   "metadata": {
    "execution": {
     "iopub.execute_input": "2024-04-10T15:30:36.826445Z",
     "iopub.status.busy": "2024-04-10T15:30:36.826186Z",
     "iopub.status.idle": "2024-04-10T15:30:36.911078Z",
     "shell.execute_reply": "2024-04-10T15:30:36.910479Z",
     "shell.execute_reply.started": "2024-04-10T15:30:36.826424Z"
    }
   },
   "outputs": [
    {
     "ename": "NoDefaultCollectionError",
     "evalue": "No collections provided to findDataset, and no defaults from registry construction.",
     "output_type": "error",
     "traceback": [
      "\u001b[0;31m---------------------------------------------------------------------------\u001b[0m",
      "\u001b[0;31mNoDefaultCollectionError\u001b[0m                  Traceback (most recent call last)",
      "Cell \u001b[0;32mIn[7], line 2\u001b[0m\n\u001b[1;32m      1\u001b[0m dataId \u001b[38;5;241m=\u001b[39m {\u001b[38;5;124m'\u001b[39m\u001b[38;5;124mskymap\u001b[39m\u001b[38;5;124m'\u001b[39m: \u001b[38;5;124m'\u001b[39m\u001b[38;5;124mops_rehersal_prep_2k_v1\u001b[39m\u001b[38;5;124m'\u001b[39m, \u001b[38;5;124m'\u001b[39m\u001b[38;5;124mtract\u001b[39m\u001b[38;5;124m'\u001b[39m: \u001b[38;5;241m3384\u001b[39m}\n\u001b[0;32m----> 2\u001b[0m truth_summary \u001b[38;5;241m=\u001b[39m \u001b[43mbutler\u001b[49m\u001b[38;5;241;43m.\u001b[39;49m\u001b[43mget\u001b[49m\u001b[43m(\u001b[49m\u001b[38;5;124;43m\"\u001b[39;49m\u001b[38;5;124;43mtruth_summary\u001b[39;49m\u001b[38;5;124;43m\"\u001b[39;49m\u001b[43m,\u001b[49m\u001b[43m \u001b[49m\u001b[43mdataId\u001b[49m\u001b[38;5;241;43m=\u001b[39;49m\u001b[43mdataId\u001b[49m\u001b[43m,\u001b[49m\u001b[43m \u001b[49m\u001b[43mstorageClass\u001b[49m\u001b[38;5;241;43m=\u001b[39;49m\u001b[38;5;124;43m\"\u001b[39;49m\u001b[38;5;124;43mArrowAstropy\u001b[39;49m\u001b[38;5;124;43m\"\u001b[39;49m\u001b[43m)\u001b[49m\n",
      "File \u001b[0;32m/opt/lsst/software/stack/stack/miniconda3-py38_4.9.2-8.0.0/Linux64/daf_butler/g6af44e7a1a+043fa2f30f/python/lsst/daf/butler/direct_butler.py:1126\u001b[0m, in \u001b[0;36mDirectButler.get\u001b[0;34m(self, datasetRefOrType, dataId, parameters, collections, storageClass, **kwargs)\u001b[0m\n\u001b[1;32m   1072\u001b[0m \u001b[38;5;250m\u001b[39m\u001b[38;5;124;03m\"\"\"Retrieve a stored dataset.\u001b[39;00m\n\u001b[1;32m   1073\u001b[0m \n\u001b[1;32m   1074\u001b[0m \u001b[38;5;124;03mParameters\u001b[39;00m\n\u001b[0;32m   (...)\u001b[0m\n\u001b[1;32m   1123\u001b[0m \u001b[38;5;124;03m``exposure`` is a temporal dimension.\u001b[39;00m\n\u001b[1;32m   1124\u001b[0m \u001b[38;5;124;03m\"\"\"\u001b[39;00m\n\u001b[1;32m   1125\u001b[0m _LOG\u001b[38;5;241m.\u001b[39mdebug(\u001b[38;5;124m\"\u001b[39m\u001b[38;5;124mButler get: \u001b[39m\u001b[38;5;132;01m%s\u001b[39;00m\u001b[38;5;124m, dataId=\u001b[39m\u001b[38;5;132;01m%s\u001b[39;00m\u001b[38;5;124m, parameters=\u001b[39m\u001b[38;5;132;01m%s\u001b[39;00m\u001b[38;5;124m\"\u001b[39m, datasetRefOrType, dataId, parameters)\n\u001b[0;32m-> 1126\u001b[0m ref \u001b[38;5;241m=\u001b[39m \u001b[38;5;28;43mself\u001b[39;49m\u001b[38;5;241;43m.\u001b[39;49m\u001b[43m_findDatasetRef\u001b[49m\u001b[43m(\u001b[49m\n\u001b[1;32m   1127\u001b[0m \u001b[43m    \u001b[49m\u001b[43mdatasetRefOrType\u001b[49m\u001b[43m,\u001b[49m\u001b[43m \u001b[49m\u001b[43mdataId\u001b[49m\u001b[43m,\u001b[49m\u001b[43m \u001b[49m\u001b[43mcollections\u001b[49m\u001b[38;5;241;43m=\u001b[39;49m\u001b[43mcollections\u001b[49m\u001b[43m,\u001b[49m\u001b[43m \u001b[49m\u001b[43mdatastore_records\u001b[49m\u001b[38;5;241;43m=\u001b[39;49m\u001b[38;5;28;43;01mTrue\u001b[39;49;00m\u001b[43m,\u001b[49m\u001b[43m \u001b[49m\u001b[38;5;241;43m*\u001b[39;49m\u001b[38;5;241;43m*\u001b[39;49m\u001b[43mkwargs\u001b[49m\n\u001b[1;32m   1128\u001b[0m \u001b[43m\u001b[49m\u001b[43m)\u001b[49m\n\u001b[1;32m   1129\u001b[0m \u001b[38;5;28;01mreturn\u001b[39;00m \u001b[38;5;28mself\u001b[39m\u001b[38;5;241m.\u001b[39m_datastore\u001b[38;5;241m.\u001b[39mget(ref, parameters\u001b[38;5;241m=\u001b[39mparameters, storageClass\u001b[38;5;241m=\u001b[39mstorageClass)\n",
      "File \u001b[0;32m/opt/lsst/software/stack/stack/miniconda3-py38_4.9.2-8.0.0/Linux64/daf_butler/g6af44e7a1a+043fa2f30f/python/lsst/daf/butler/direct_butler.py:877\u001b[0m, in \u001b[0;36mDirectButler._findDatasetRef\u001b[0;34m(self, datasetRefOrType, dataId, collections, predict, run, datastore_records, **kwargs)\u001b[0m\n\u001b[1;32m    869\u001b[0m     dataId \u001b[38;5;241m=\u001b[39m DataCoordinate\u001b[38;5;241m.\u001b[39mstandardize(\n\u001b[1;32m    870\u001b[0m         dataId,\n\u001b[1;32m    871\u001b[0m         dimensions\u001b[38;5;241m=\u001b[39mdatasetType\u001b[38;5;241m.\u001b[39mdimensions,\n\u001b[1;32m    872\u001b[0m         defaults\u001b[38;5;241m=\u001b[39m\u001b[38;5;28mself\u001b[39m\u001b[38;5;241m.\u001b[39m_registry\u001b[38;5;241m.\u001b[39mdefaults\u001b[38;5;241m.\u001b[39mdataId,\n\u001b[1;32m    873\u001b[0m         \u001b[38;5;241m*\u001b[39m\u001b[38;5;241m*\u001b[39mkwargs,\n\u001b[1;32m    874\u001b[0m     )\n\u001b[1;32m    875\u001b[0m \u001b[38;5;66;03m# Always lookup the DatasetRef, even if one is given, to ensure it is\u001b[39;00m\n\u001b[1;32m    876\u001b[0m \u001b[38;5;66;03m# present in the current collection.\u001b[39;00m\n\u001b[0;32m--> 877\u001b[0m ref \u001b[38;5;241m=\u001b[39m \u001b[38;5;28;43mself\u001b[39;49m\u001b[38;5;241;43m.\u001b[39;49m\u001b[43mfind_dataset\u001b[49m\u001b[43m(\u001b[49m\n\u001b[1;32m    878\u001b[0m \u001b[43m    \u001b[49m\u001b[43mdatasetType\u001b[49m\u001b[43m,\u001b[49m\n\u001b[1;32m    879\u001b[0m \u001b[43m    \u001b[49m\u001b[43mdataId\u001b[49m\u001b[43m,\u001b[49m\n\u001b[1;32m    880\u001b[0m \u001b[43m    \u001b[49m\u001b[43mcollections\u001b[49m\u001b[38;5;241;43m=\u001b[39;49m\u001b[43mcollections\u001b[49m\u001b[43m,\u001b[49m\n\u001b[1;32m    881\u001b[0m \u001b[43m    \u001b[49m\u001b[43mtimespan\u001b[49m\u001b[38;5;241;43m=\u001b[39;49m\u001b[43mtimespan\u001b[49m\u001b[43m,\u001b[49m\n\u001b[1;32m    882\u001b[0m \u001b[43m    \u001b[49m\u001b[43mdatastore_records\u001b[49m\u001b[38;5;241;43m=\u001b[39;49m\u001b[43mdatastore_records\u001b[49m\u001b[43m,\u001b[49m\n\u001b[1;32m    883\u001b[0m \u001b[43m\u001b[49m\u001b[43m)\u001b[49m\n\u001b[1;32m    884\u001b[0m \u001b[38;5;28;01mif\u001b[39;00m ref \u001b[38;5;129;01mis\u001b[39;00m \u001b[38;5;28;01mNone\u001b[39;00m:\n\u001b[1;32m    885\u001b[0m     \u001b[38;5;28;01mif\u001b[39;00m predict:\n",
      "File \u001b[0;32m/opt/lsst/software/stack/stack/miniconda3-py38_4.9.2-8.0.0/Linux64/daf_butler/g6af44e7a1a+043fa2f30f/python/lsst/daf/butler/direct_butler.py:1231\u001b[0m, in \u001b[0;36mDirectButler.find_dataset\u001b[0;34m(self, dataset_type, data_id, collections, timespan, storage_class, dimension_records, datastore_records, **kwargs)\u001b[0m\n\u001b[1;32m   1227\u001b[0m     parent_type \u001b[38;5;241m=\u001b[39m actual_type\n\u001b[1;32m   1229\u001b[0m data_id, kwargs \u001b[38;5;241m=\u001b[39m \u001b[38;5;28mself\u001b[39m\u001b[38;5;241m.\u001b[39m_rewrite_data_id(data_id, parent_type, \u001b[38;5;241m*\u001b[39m\u001b[38;5;241m*\u001b[39mkwargs)\n\u001b[0;32m-> 1231\u001b[0m ref \u001b[38;5;241m=\u001b[39m \u001b[38;5;28;43mself\u001b[39;49m\u001b[38;5;241;43m.\u001b[39;49m\u001b[43m_registry\u001b[49m\u001b[38;5;241;43m.\u001b[39;49m\u001b[43mfindDataset\u001b[49m\u001b[43m(\u001b[49m\n\u001b[1;32m   1232\u001b[0m \u001b[43m    \u001b[49m\u001b[43mparent_type\u001b[49m\u001b[43m,\u001b[49m\n\u001b[1;32m   1233\u001b[0m \u001b[43m    \u001b[49m\u001b[43mdata_id\u001b[49m\u001b[43m,\u001b[49m\n\u001b[1;32m   1234\u001b[0m \u001b[43m    \u001b[49m\u001b[43mcollections\u001b[49m\u001b[38;5;241;43m=\u001b[39;49m\u001b[43mcollections\u001b[49m\u001b[43m,\u001b[49m\n\u001b[1;32m   1235\u001b[0m \u001b[43m    \u001b[49m\u001b[43mtimespan\u001b[49m\u001b[38;5;241;43m=\u001b[39;49m\u001b[43mtimespan\u001b[49m\u001b[43m,\u001b[49m\n\u001b[1;32m   1236\u001b[0m \u001b[43m    \u001b[49m\u001b[43mdatastore_records\u001b[49m\u001b[38;5;241;43m=\u001b[39;49m\u001b[43mdatastore_records\u001b[49m\u001b[43m,\u001b[49m\n\u001b[1;32m   1237\u001b[0m \u001b[43m    \u001b[49m\u001b[38;5;241;43m*\u001b[39;49m\u001b[38;5;241;43m*\u001b[39;49m\u001b[43mkwargs\u001b[49m\u001b[43m,\u001b[49m\n\u001b[1;32m   1238\u001b[0m \u001b[43m\u001b[49m\u001b[43m)\u001b[49m\n\u001b[1;32m   1239\u001b[0m \u001b[38;5;28;01mif\u001b[39;00m ref \u001b[38;5;129;01mis\u001b[39;00m \u001b[38;5;129;01mnot\u001b[39;00m \u001b[38;5;28;01mNone\u001b[39;00m \u001b[38;5;129;01mand\u001b[39;00m dimension_records:\n\u001b[1;32m   1240\u001b[0m     ref \u001b[38;5;241m=\u001b[39m ref\u001b[38;5;241m.\u001b[39mexpanded(\u001b[38;5;28mself\u001b[39m\u001b[38;5;241m.\u001b[39m_registry\u001b[38;5;241m.\u001b[39mexpandDataId(ref\u001b[38;5;241m.\u001b[39mdataId, dimensions\u001b[38;5;241m=\u001b[39mref\u001b[38;5;241m.\u001b[39mdatasetType\u001b[38;5;241m.\u001b[39mdimensions))\n",
      "File \u001b[0;32m/opt/lsst/software/stack/stack/miniconda3-py38_4.9.2-8.0.0/Linux64/daf_butler/g6af44e7a1a+043fa2f30f/python/lsst/daf/butler/registry/sql_registry.py:895\u001b[0m, in \u001b[0;36mSqlRegistry.findDataset\u001b[0;34m(self, datasetType, dataId, collections, timespan, datastore_records, **kwargs)\u001b[0m\n\u001b[1;32m    893\u001b[0m \u001b[38;5;28;01mif\u001b[39;00m collections \u001b[38;5;129;01mis\u001b[39;00m \u001b[38;5;28;01mNone\u001b[39;00m:\n\u001b[1;32m    894\u001b[0m     \u001b[38;5;28;01mif\u001b[39;00m \u001b[38;5;129;01mnot\u001b[39;00m \u001b[38;5;28mself\u001b[39m\u001b[38;5;241m.\u001b[39mdefaults\u001b[38;5;241m.\u001b[39mcollections:\n\u001b[0;32m--> 895\u001b[0m         \u001b[38;5;28;01mraise\u001b[39;00m NoDefaultCollectionError(\n\u001b[1;32m    896\u001b[0m             \u001b[38;5;124m\"\u001b[39m\u001b[38;5;124mNo collections provided to findDataset, and no defaults from registry construction.\u001b[39m\u001b[38;5;124m\"\u001b[39m\n\u001b[1;32m    897\u001b[0m         )\n\u001b[1;32m    898\u001b[0m     collections \u001b[38;5;241m=\u001b[39m \u001b[38;5;28mself\u001b[39m\u001b[38;5;241m.\u001b[39mdefaults\u001b[38;5;241m.\u001b[39mcollections\n\u001b[1;32m    899\u001b[0m backend \u001b[38;5;241m=\u001b[39m queries\u001b[38;5;241m.\u001b[39mSqlQueryBackend(\u001b[38;5;28mself\u001b[39m\u001b[38;5;241m.\u001b[39m_db, \u001b[38;5;28mself\u001b[39m\u001b[38;5;241m.\u001b[39m_managers, \u001b[38;5;28mself\u001b[39m\u001b[38;5;241m.\u001b[39mdimension_record_cache)\n",
      "\u001b[0;31mNoDefaultCollectionError\u001b[0m: No collections provided to findDataset, and no defaults from registry construction."
     ]
    }
   ],
   "source": [
    "dataId = {'skymap': 'ops_rehersal_prep_2k_v1', 'tract': 3384}\n",
    "truth_summary = butler.get(\"truth_summary\", dataId=dataId, storageClass=\"ArrowAstropy\")"
   ]
  },
  {
   "cell_type": "code",
   "execution_count": null,
   "id": "25c771e3-ae2a-4c98-a637-978e22450bc4",
   "metadata": {},
   "outputs": [],
   "source": []
  }
 ],
 "metadata": {
  "kernelspec": {
   "display_name": "LSST",
   "language": "python",
   "name": "lsst"
  },
  "language_info": {
   "codemirror_mode": {
    "name": "ipython",
    "version": 3
   },
   "file_extension": ".py",
   "mimetype": "text/x-python",
   "name": "python",
   "nbconvert_exporter": "python",
   "pygments_lexer": "ipython3",
   "version": "3.11.7"
  }
 },
 "nbformat": 4,
 "nbformat_minor": 5
}
