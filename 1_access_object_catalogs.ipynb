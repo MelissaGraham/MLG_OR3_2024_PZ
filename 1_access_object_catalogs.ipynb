{
 "cells": [
  {
   "cell_type": "markdown",
   "id": "1f35d87c-caab-42ad-9e8e-f810f3d68ca5",
   "metadata": {},
   "source": [
    "# OR3 PZ: Access Object Catalogs\n",
    "\n",
    "Author: Melissa Graham\n",
    "\n",
    "Last verified to run: Fri Apr 12 2024\n",
    "\n",
    "LSST Science Pipelines version: Weekly 2024_04\n",
    "\n",
    "**Overview** \n",
    "\n",
    "The contents of this notebook have relied on the\n",
    "<a href=\"https://github.com/lsst-sitcom/ops_rehearsal_commissioning_2024/blob/main/notebooks/ops_rehearsal_comcam_analysis.ipynb\">ops_rehearsal_comcam_analysis notebook</a>.\n",
    "\n",
    "This notebook shows how to access OR3 Object catalogs via the butler. \n",
    "\n",
    "It also explores the tract coverage and depths and the types of flux measurements available.\n",
    "\n",
    "## Set up\n",
    "\n",
    "Import packages"
   ]
  },
  {
   "cell_type": "code",
   "execution_count": null,
   "id": "d22e1d07-3160-4c30-8b36-19535d99c304",
   "metadata": {},
   "outputs": [],
   "source": [
    "import numpy as np\n",
    "import matplotlib.pyplot as plt\n",
    "from lsst.daf.butler import Butler\n",
    "import gc"
   ]
  },
  {
   "cell_type": "markdown",
   "id": "c29de01d-a357-4ba6-a5c2-f3c0a8729635",
   "metadata": {},
   "source": [
    "Define the Rubin filter names, colors, and symbols to use in plots."
   ]
  },
  {
   "cell_type": "code",
   "execution_count": null,
   "id": "178cb1cb-215d-4fcd-b639-db88c663a239",
   "metadata": {},
   "outputs": [],
   "source": [
    "flbl = ['u', 'g', 'r', 'i', 'z', 'y']\n",
    "fclr = {'u': '#56b4e9', 'g': '#008060', 'r': '#ff4000',\n",
    "        'i': '#850000', 'z': '#6600cc', 'y': '#000000'}\n",
    "fsym = {'u': 'o', 'g': '^', 'r': 'v', 'i': 's', 'z': '*', 'y': 'p'}"
   ]
  },
  {
   "cell_type": "markdown",
   "id": "62478c54-e0df-473c-9e94-9db226a71894",
   "metadata": {},
   "source": [
    "## Access OR3 DRP data\n",
    "\n",
    "### Find the object catalog\n",
    "\n",
    "Based on the information in this Confluence page: https://confluence.lsstcorp.org/display/DM/Campaigns,\n",
    "the Data Release Processing (DRP) for simulated ComCam data at USDF was complete back in March.\n",
    "\n",
    "It is DRP that creates the deepCoadds and Object catalog which is the starting point for photo-z estimates.\n",
    "\n",
    "Based on this Slack thread, this early processing was done in order to create template images for OR3,\n",
    "but it is unclear if \"final\" DRP-type processing will be done for OR3.\n",
    "https://lsstc.slack.com/archives/C011E3ZUZAB/p1712762539582939"
   ]
  },
  {
   "cell_type": "code",
   "execution_count": null,
   "id": "41a47094-aec2-4fd4-b9fa-1df7a59b6dfd",
   "metadata": {},
   "outputs": [],
   "source": [
    "repo = '/repo/ops-rehearsal-3-prep'\n",
    "collection = 'u/homer/w_2024_12/DM-43439'\n",
    "butler = Butler(repo, collections=collection)\n",
    "registry = butler.registry"
   ]
  },
  {
   "cell_type": "markdown",
   "id": "65e6981c-00cc-4cba-acbe-be0879b85da7",
   "metadata": {},
   "source": [
    "Determine which `DatasetTypes` exist in the collection.\n",
    "\n",
    "Limit the search to the data products, and do not list configurations, logs, etc."
   ]
  },
  {
   "cell_type": "code",
   "execution_count": null,
   "id": "185a762d-5d53-4ce2-a887-d7d755cbe8c2",
   "metadata": {},
   "outputs": [],
   "source": [
    "# for datasetType in registry.queryDatasetTypes():\n",
    "#     if registry.queryDatasets(datasetType, \n",
    "#                               collections=collection).any(execute=False,\n",
    "#                                                           exact=False):\n",
    "#         if ('_config' not in datasetType.name) and \\\n",
    "#         ('_log' not in datasetType.name) and \\\n",
    "#         ('_metadata' not in datasetType.name) and \\\n",
    "#         ('_resource_usage' not in datasetType.name):\n",
    "#             print(datasetType)"
   ]
  },
  {
   "cell_type": "markdown",
   "id": "63568e42-e14e-433e-b9ef-bf51cabb0a28",
   "metadata": {},
   "source": [
    "Only look for the `object`-related data products.\n",
    "\n",
    "The following cell shows that there is `objectTable` and `objectTable_tract`, plus a whole bunch of related datasets."
   ]
  },
  {
   "cell_type": "code",
   "execution_count": null,
   "id": "6ac9b4ce-7e34-4fc5-8e98-af3d33066f10",
   "metadata": {},
   "outputs": [],
   "source": [
    "# for datasetType in registry.queryDatasetTypes():\n",
    "#     if registry.queryDatasets(datasetType, \n",
    "#                               collections=collection).any(execute=False,\n",
    "#                                                           exact=False):\n",
    "#         if ('_config' not in datasetType.name) and \\\n",
    "#         ('_log' not in datasetType.name) and \\\n",
    "#         ('_metadata' not in datasetType.name) and \\\n",
    "#         ('_resource_usage' not in datasetType.name):\n",
    "#             temp = str(datasetType.name)\n",
    "#             if temp.find('object') > -1:\n",
    "#                 print(temp)"
   ]
  },
  {
   "cell_type": "markdown",
   "id": "2bcd43bb-de4c-40ab-96b7-25975a6aeee8",
   "metadata": {},
   "source": [
    "Alternatively, can do it this way and reach the same conclusion."
   ]
  },
  {
   "cell_type": "code",
   "execution_count": null,
   "id": "ff7ac88c-9f33-464b-9c41-000d2864cf73",
   "metadata": {},
   "outputs": [],
   "source": [
    "# for dtype in sorted(registry.queryDatasetTypes(expression=\"*object*\")):\n",
    "#     print(dtype.name)"
   ]
  },
  {
   "cell_type": "markdown",
   "id": "ada2dda8-379c-4e93-9ce0-1143912ad73c",
   "metadata": {
    "execution": {
     "iopub.execute_input": "2024-04-05T19:29:12.991459Z",
     "iopub.status.busy": "2024-04-05T19:29:12.991137Z",
     "iopub.status.idle": "2024-04-05T19:29:12.994654Z",
     "shell.execute_reply": "2024-04-05T19:29:12.994119Z",
     "shell.execute_reply.started": "2024-04-05T19:29:12.991446Z"
    }
   },
   "source": [
    "Get all the butler references for the `objectTable_tract`."
   ]
  },
  {
   "cell_type": "code",
   "execution_count": null,
   "id": "83ab68e4-4b09-46e3-99c5-16bc3d5a34d9",
   "metadata": {},
   "outputs": [],
   "source": [
    "oTt_refs = list(butler.registry.queryDatasets('objectTable_tract'))"
   ]
  },
  {
   "cell_type": "markdown",
   "id": "6b396022-6f3e-445e-93d2-7db9aad22dd8",
   "metadata": {
    "execution": {
     "iopub.execute_input": "2024-04-05T19:26:42.069719Z",
     "iopub.status.busy": "2024-04-05T19:26:42.069162Z",
     "iopub.status.idle": "2024-04-05T19:26:42.072576Z",
     "shell.execute_reply": "2024-04-05T19:26:42.072125Z",
     "shell.execute_reply.started": "2024-04-05T19:26:42.069703Z"
    }
   },
   "source": [
    "What are the `dataId` composed of, for the object table?\n",
    "\n",
    "They would be all the same, so just check the first."
   ]
  },
  {
   "cell_type": "code",
   "execution_count": null,
   "id": "da769f09-bef8-4a4d-acdd-d1413f3fc9a6",
   "metadata": {},
   "outputs": [],
   "source": [
    "for i, ref in enumerate(oTt_refs):\n",
    "    if i == 0:\n",
    "        print(ref.dataId)"
   ]
  },
  {
   "cell_type": "markdown",
   "id": "407e46f5-76f2-48d5-8711-048ffc8fd4c7",
   "metadata": {},
   "source": [
    "## Characterize object catalog\n",
    "\n",
    "### Number of tracts and visits/tract\n",
    "\n",
    "How many unique tracts are covered by `objectTable_tract`."
   ]
  },
  {
   "cell_type": "code",
   "execution_count": null,
   "id": "44d95c2d-fe05-48bd-9408-bd918e8055ec",
   "metadata": {},
   "outputs": [],
   "source": [
    "tracts = np.unique([ref.dataId['tract'] for ref in oTt_refs])\n",
    "print('Number of unique tracts: ', len(tracts))\n",
    "print('tracts: ', tracts)"
   ]
  },
  {
   "cell_type": "markdown",
   "id": "c8ad3d1b-9660-404e-81aa-e4f4e3dca944",
   "metadata": {},
   "source": [
    "How many visits were available for the `deepCoadd` images in each tract.\n",
    "\n",
    "See that the numbers go from <10 to >1000.\n",
    "Some tracts will not have enough visits to even coadd (yet, an `objectTable` was made for them...).\n",
    "This shows depth variation over the full region is to be expected."
   ]
  },
  {
   "cell_type": "code",
   "execution_count": null,
   "id": "909761ac-efdb-41d5-9860-929d09c259bb",
   "metadata": {},
   "outputs": [],
   "source": [
    "temp = []\n",
    "for tract in tracts:\n",
    "    visits = list(butler.registry.queryDatasets('visitSummary', tract=tract, \n",
    "                                                skymap='DC2', findFirst=True))\n",
    "    temp.append(len(visits))\n",
    "nvisits = np.asarray(temp, dtype='int')\n",
    "del temp\n",
    "sx = np.argsort(nvisits)\n",
    "for x in sx:\n",
    "    print(tracts[x], nvisits[x])"
   ]
  },
  {
   "cell_type": "markdown",
   "id": "6f0cae75-c2a9-4348-b9a2-d08d670f6ddc",
   "metadata": {},
   "source": [
    "Plot histogram of the number of tracts (y) vs. number of visits/tract (x)."
   ]
  },
  {
   "cell_type": "code",
   "execution_count": null,
   "id": "947e284c-89fa-421b-9291-a53d1ea722c0",
   "metadata": {},
   "outputs": [],
   "source": [
    "fig = plt.figure(figsize=(3, 2))\n",
    "plt.hist(nvisits, bins=20)\n",
    "plt.xlabel('number of visits per tract')\n",
    "plt.ylabel('number of tracts')\n",
    "plt.show()"
   ]
  },
  {
   "cell_type": "markdown",
   "id": "6f0129a4-7ab0-4764-acf4-7be4e429f2f8",
   "metadata": {},
   "source": [
    "### Retrieve object catalog contents\n",
    "\n",
    "How to access the `objectTable_tract` for a given tract."
   ]
  },
  {
   "cell_type": "code",
   "execution_count": null,
   "id": "62205d51-a5eb-4282-b451-b4eb60e0e1ba",
   "metadata": {},
   "outputs": [],
   "source": [
    "use_tract = 9880\n",
    "dataId = {'skymap': 'ops_rehersal_prep_2k_v1', 'tract': use_tract}\n",
    "objects = butler.get('objectTable_tract', dataId=dataId)"
   ]
  },
  {
   "cell_type": "markdown",
   "id": "0769e418-7a6a-4754-a277-2ae17310126c",
   "metadata": {},
   "source": [
    "Option to show (truncated) table.\n",
    "\n",
    "Schema is going to be very similar to the DP0.2 Object table.\n",
    "\n",
    "https://dm.lsst.org/sdm_schemas/browser/dp02.html#Object"
   ]
  },
  {
   "cell_type": "code",
   "execution_count": null,
   "id": "4da97cb2-704f-4bad-8d8a-69f5648525f6",
   "metadata": {},
   "outputs": [],
   "source": [
    "# objects"
   ]
  },
  {
   "cell_type": "markdown",
   "id": "5c54fe6c-6da4-4560-ba00-864c5c3b134d",
   "metadata": {
    "execution": {
     "iopub.execute_input": "2024-04-05T19:56:11.389924Z",
     "iopub.status.busy": "2024-04-05T19:56:11.389658Z",
     "iopub.status.idle": "2024-04-05T19:56:11.392682Z",
     "shell.execute_reply": "2024-04-05T19:56:11.392271Z",
     "shell.execute_reply.started": "2024-04-05T19:56:11.389905Z"
    }
   },
   "source": [
    "Number of columns, number of rows."
   ]
  },
  {
   "cell_type": "code",
   "execution_count": null,
   "id": "4c157539-a930-4948-906a-2aeb7835eef6",
   "metadata": {},
   "outputs": [],
   "source": [
    "print('# cols: ', len(objects.columns))\n",
    "print('# rows: ', len(objects))"
   ]
  },
  {
   "cell_type": "markdown",
   "id": "1567b4d7-cd7d-4b6a-b915-a047b0e83ddb",
   "metadata": {},
   "source": [
    "Search column names."
   ]
  },
  {
   "cell_type": "code",
   "execution_count": null,
   "id": "b2b6751c-1643-4faa-8a45-a4bce87ef201",
   "metadata": {},
   "outputs": [],
   "source": [
    "string = 'ext'\n",
    "for col in objects.columns:\n",
    "    if col.find(string) > 0:\n",
    "        print(col)"
   ]
  },
  {
   "cell_type": "markdown",
   "id": "6bf16b52-2c79-4f93-bd76-5b80eb1ba2c1",
   "metadata": {},
   "source": [
    "### Plot r- and i-band cModel magnitude distributions\n",
    "\n",
    "Extract data into numpy arrays for analysis.\n",
    "\n",
    "The best way to reject non-unique objects is to impose that `detect_isPrimary` be `True`.\n",
    "This removes duplicates at image edge overlaps and deblending parents."
   ]
  },
  {
   "cell_type": "code",
   "execution_count": null,
   "id": "c2717b3a-2679-4934-850e-17efe6735275",
   "metadata": {},
   "outputs": [],
   "source": [
    "r_cModelFlux = np.asarray(objects.get('r_cModelFlux'))\n",
    "i_cModelFlux = np.asarray(objects.get('i_cModelFlux'))\n",
    "detect_isPrimary = np.asarray(objects.get('detect_isPrimary'))"
   ]
  },
  {
   "cell_type": "markdown",
   "id": "0c86a4c4-1ecb-4fe6-a98a-0429ad665bcd",
   "metadata": {
    "execution": {
     "iopub.execute_input": "2024-04-05T20:48:27.920841Z",
     "iopub.status.busy": "2024-04-05T20:48:27.920557Z",
     "iopub.status.idle": "2024-04-05T20:48:27.923786Z",
     "shell.execute_reply": "2024-04-05T20:48:27.923381Z",
     "shell.execute_reply.started": "2024-04-05T20:48:27.920825Z"
    }
   },
   "source": [
    "Calculate magnitudes for the subset of r- and i-band detected unique `objects`."
   ]
  },
  {
   "cell_type": "code",
   "execution_count": null,
   "id": "caa75b04-f04f-4114-a820-648a107c6358",
   "metadata": {},
   "outputs": [],
   "source": [
    "tx = np.where((r_cModelFlux > 0.0) & (i_cModelFlux > 0.0) & (detect_isPrimary == 1))[0]\n",
    "print(len(tx))\n",
    "r_cModelMag = -2.50 * np.log10(r_cModelFlux[tx]) + 31.4\n",
    "i_cModelMag = -2.50 * np.log10(i_cModelFlux[tx]) + 31.4\n",
    "del tx"
   ]
  },
  {
   "cell_type": "markdown",
   "id": "2e608265-bfcb-44f5-a305-afec4ba5dc73",
   "metadata": {
    "execution": {
     "iopub.execute_input": "2024-04-05T20:39:03.143724Z",
     "iopub.status.busy": "2024-04-05T20:39:03.143449Z",
     "iopub.status.idle": "2024-04-05T20:39:03.146102Z",
     "shell.execute_reply": "2024-04-05T20:39:03.145801Z",
     "shell.execute_reply.started": "2024-04-05T20:39:03.143710Z"
    }
   },
   "source": [
    "Plot the magnitude distribution."
   ]
  },
  {
   "cell_type": "code",
   "execution_count": null,
   "id": "d0ccc900-161e-4720-9d64-3c217ece13f4",
   "metadata": {},
   "outputs": [],
   "source": [
    "tx = np.where((r_cModelMag < 50) & (i_cModelMag < 50))[0]\n",
    "fig = plt.figure(figsize=(3, 2))\n",
    "plt.hist(r_cModelMag[tx], bins=20, log=True, histtype='step', lw=2, alpha=0.5, color=fclr['r'], label='r')\n",
    "plt.hist(i_cModelMag[tx], bins=20, log=True, histtype='step', lw=1, color=fclr['i'], label='i')\n",
    "plt.xlabel('mag')\n",
    "plt.ylabel('N')\n",
    "plt.legend(loc='upper right')\n",
    "plt.title('tract = '+str(use_tract))\n",
    "plt.show()\n",
    "del tx"
   ]
  },
  {
   "cell_type": "markdown",
   "id": "2989c877-2bfa-40c1-8dd5-f32746bfbb8a",
   "metadata": {},
   "source": [
    "Clean up."
   ]
  },
  {
   "cell_type": "code",
   "execution_count": null,
   "id": "a6348814-6beb-42b2-b21a-45bdf7fa98f5",
   "metadata": {},
   "outputs": [],
   "source": [
    "del dataId, objects\n",
    "del r_cModelFlux, i_cModelFlux, detect_isPrimary, r_cModelMag, i_cModelMag\n",
    "gc.collect()"
   ]
  },
  {
   "cell_type": "markdown",
   "id": "c8b30df7-f953-432d-a805-8f23733ae9c4",
   "metadata": {},
   "source": [
    "Plot distribution of r-band magnitudes for the following tracts (# visits):\n",
    "\n",
    "```\n",
    "9881 8\n",
    "7684 60\n",
    "9638 299\n",
    "7149 602\n",
    "9880 1280\n",
    "```"
   ]
  },
  {
   "cell_type": "code",
   "execution_count": null,
   "id": "5339c56d-eadd-4276-bc5a-1c04b43a8b1a",
   "metadata": {},
   "outputs": [],
   "source": [
    "use_tracts = [9881, 7684, 9638, 7149, 9880]\n",
    "use_nvisits = [8, 60, 299, 602, 1280]\n",
    "\n",
    "fig = plt.figure(figsize=(6, 4))\n",
    "\n",
    "for i, tract in enumerate(use_tracts):\n",
    "    dataId = {'skymap': 'ops_rehersal_prep_2k_v1', 'tract': tract}\n",
    "    objects = butler.get('objectTable_tract', dataId=dataId)\n",
    "    \n",
    "    r_cModelFlux = np.asarray(objects.get('r_cModelFlux'))\n",
    "    detect_isPrimary = np.asarray(objects.get('detect_isPrimary'))\n",
    "    tx = np.where((r_cModelFlux > 0.0) & (detect_isPrimary == 1))[0]\n",
    "    r_cModelMag = -2.50 * np.log10(r_cModelFlux[tx]) + 31.4\n",
    "    del tx\n",
    "    \n",
    "    tx = np.where(r_cModelMag < 50)[0]\n",
    "    plt.hist(r_cModelMag[tx], bins=20, log=True, histtype='step',\n",
    "             label=str(use_nvisits[i]))\n",
    "    \n",
    "    del dataId, objects\n",
    "    del r_cModelFlux, detect_isPrimary, r_cModelMag\n",
    "    gc.collect()\n",
    "\n",
    "plt.xlabel('r mag')\n",
    "plt.ylabel('N')\n",
    "plt.title('magnitude distribution by tract')\n",
    "plt.legend(loc='upper left', title='# visits')\n",
    "plt.show()"
   ]
  },
  {
   "cell_type": "markdown",
   "id": "4e106280-0d3a-4365-b575-67cc6a995612",
   "metadata": {},
   "source": [
    "Going forward, take an ~arbitrary cut off of 500 visits contributing to a tract."
   ]
  },
  {
   "cell_type": "markdown",
   "id": "05725294-7db1-4f00-95f2-13c1f2194f97",
   "metadata": {},
   "source": [
    "## Schema: types of fluxes measured\n",
    "\n",
    "Schema for the object catalog for DP0.2: https://dm.lsst.org/sdm_schemas/browser/dp02.html#Object\n",
    "\n",
    "Could be a bit different for OR3 but generally the same types of fluxes will have been measured.\n",
    "\n",
    "For photometric redshifts, since accurate colors are important, it is the GaaP fluxes that should be used.\n"
   ]
  },
  {
   "cell_type": "markdown",
   "id": "f0e1c4c8-38e6-40ed-9d8f-d0b1f61a1513",
   "metadata": {},
   "source": [
    "### Aperture fluxes\n",
    "\n",
    "Fixed aperture diameter size in pixels.\n",
    "\n",
    "```\n",
    "<f>_ap<pix>Flux     : Flux within <pix>-pixel aperture. Forced on <f>-band.\n",
    "<f>_ap<pix>FluxErr  : Uncertainty of <f>_ap<pix>Flux.\n",
    "<f>_ap<pix>FluxFlag : Failure flag for <f>_ap<pix>Flux.\n",
    "```\n",
    "\n",
    "For DP0.2, the apertures are 3, 6, 9, 12, 17, 25, 35, 50, and 70 pixels.\n",
    "\n",
    "In the column name, apertures are `03`, `06`, `09`, `12`, and so on."
   ]
  },
  {
   "cell_type": "markdown",
   "id": "e6375f05-af1e-4f1f-a613-da363b00e764",
   "metadata": {},
   "source": [
    "### Composite Model (CModel) fluxes\n",
    "\n",
    "Similar in nature to those measured for SDSS: \n",
    "https://www.sdss3.org/dr8/algorithms/magnitudes.php#cmodel\n",
    "\n",
    "In short, it is the linear combination of the best fit exponential and de Vaucouleurs profiles.\n",
    "\n",
    "```\n",
    "<f>_cModelFlux    :\tFlux from the final cmodel fit. Forced on <f>-band.\n",
    "<f>_cModelFluxErr : Uncertainty of <f>_cModelFlux\n",
    "<f>_cModel_flag   : Failure flag for <f>_cModelFlux\n",
    "```\n",
    "\n",
    "Fluxes fit to the individual model components.\n",
    "\n",
    "```\n",
    "<f>_bdFluxB    : Flux from the de Vaucouleurs fit. Measured on <f>-band.\n",
    "<f>_bdFluxD    : Flux from the exponential fit. Measured on <f>-band.\n",
    "<f>_bdFluxBErr : Uncertainty of <f>_bdFluxB\n",
    "<f>_bdFluxDErr : Uncertainty of <f>_bdFluxD\n",
    "```\n",
    "\n",
    "The fit sizes are also available (half-light radii, ellipse axes)."
   ]
  },
  {
   "cell_type": "markdown",
   "id": "7a8e8520-ba5f-4fd4-818d-f147c99231ae",
   "metadata": {},
   "source": [
    "### GaaP fluxes\n",
    "\n",
    "The Gaussian-aperture-and-PSF flux from <a href=\"https://ui.adsabs.harvard.edu/abs/2008A%26A...482.1053K/abstract\">Kuijken et al. 2008</a>.\n",
    "\n",
    "**Optimal**\n",
    "\n",
    "```\n",
    "<f>_gaapOptimalFlux    : GaaP flux with optimal aperture after multiplying the seeing by 1.15. Forced on <f>-band.\n",
    "<f>_gaapOptimalFluxErr : Uncertainty of <f>_gaapOptimalFlux.\n",
    "```\n",
    "\n",
    "**PSF**\n",
    "\n",
    "```\n",
    "<f>_gaapPsfFlux    : GaaP flux with PSF aperture after multiplying the seeing by 1.15. Forced on <f>-band.\n",
    "<f>_gaapPsfFluxErr : Uncertainty of <f>_gaapPsfFlux.\n",
    "```\n",
    "\n",
    "**Aperture**\n",
    "\n",
    "```\n",
    "<f>_gaap<ap>Flux    : GaaP flux with <ap> aperture after multiplying the seeing by 1.15. Forced on <f>-band.\n",
    "<f>_gaap<ap>FluxErr : Uncertainty of <f>_gaap<ap>Flux.\n",
    "```\n",
    "\n",
    "Where the apertures are 0.5, 0.7, 1.0, 1.5, 2.5, and 3.0.\n",
    "In the column name `<ap>` appears as `0p5`, `0p7`, etc.\n",
    "\n",
    "\n"
   ]
  },
  {
   "cell_type": "markdown",
   "id": "349b8d42-cc79-4e93-b08a-a504174a751c",
   "metadata": {},
   "source": [
    "### Kron fluxes\n",
    "\n",
    "A decent summary of Kron fluxes <a href=\"https://ned.ipac.caltech.edu/level5/March05/Graham/Graham2_6.html\">in the NED documentation</a>.\n",
    "\n",
    "```\n",
    "<f>_kronFlux      : Flux from Kron Flux algorithm. Measured on <f> g-band.\n",
    "<f>_kronFluxErr   : Uncertainty of <f>_kronFlux.\n",
    "<f>_kronFlux_flag : Failure flag for <f>_kronFlux.\n",
    "```\n",
    "\n",
    "The Kron radius, `<f>_kronRad`, is also available."
   ]
  },
  {
   "cell_type": "markdown",
   "id": "4cd00f0b-3b10-41f2-88f6-21ec83df8b0b",
   "metadata": {},
   "source": [
    "### PSF fluxes\n",
    "\n",
    "Fluxes derived using the model point-spread function (PSF) of the image.\n",
    "\n",
    "```\n",
    "<f>_psfFlux      : Flux derived from linear least-squares fit of PSF model. Forced on <f>-band.\n",
    "<f>_psfFluxErr   : Uncertainty of <f>_psfFlux.\n",
    "<f>_psfFlux_flag : Failure flag for <f>_psfFlux.\n",
    "\n",
    "```\n"
   ]
  },
  {
   "cell_type": "markdown",
   "id": "449547a8-1fa3-477e-bdbd-81e4d194dfdd",
   "metadata": {},
   "source": [
    "### Calibration fluxes\n",
    "\n",
    "I believe these are the fluxes used for calibrations.\n",
    "\n",
    "```\n",
    "<f>_calibFlux      : Flux within 12.0-pixel aperture. Measured on <f>-band.\n",
    "<f>_calibFluxErr   : Uncertainty of <f>_calibFlux.\n",
    "<f>_calibFlux_flag : Failure flag for <f>_calibFlux.\n",
    "```"
   ]
  },
  {
   "cell_type": "markdown",
   "id": "fac71b6f-d906-4d3f-a6a8-5a25179e4582",
   "metadata": {},
   "source": [
    "### Blendedness and extendedness parameters\n",
    "\n",
    "For blendedness, see also section 4.9.11 of <a href=\"https://ui.adsabs.harvard.edu/abs/2018PASJ...70S...5B/abstract\">Bosch et al. 2018</a>.\n",
    "Extendedness parameters are known to not be perfect (tested on DP0.2 in <a href=\"https://github.com/rubin-dp0/delegate-contributions-dp02/tree/main/extendedness\">this notebook</a>).\n",
    "\n",
    "```\n",
    "<f>_blendedness  : Measure of how much the flux is affected by neighbors, (1 - child_flux/parent_flux). Measured on <f>-band.\n",
    "<f>_extendedness : Set to 1 for extended sources, 0 for point sources. Measured on <f>-band.\n",
    "```\n"
   ]
  },
  {
   "cell_type": "markdown",
   "id": "01e834ad-d706-442c-b213-81f599e0801c",
   "metadata": {},
   "source": [
    "## Explore the flux measurements\n",
    "\n",
    "### Which flux type columns are populated?\n",
    "\n",
    "Based on the cells below, it looks like all flux columns are populated.\n",
    "\n",
    "Not demonstrated, but columns for filters u, z, and y are not populated."
   ]
  },
  {
   "cell_type": "code",
   "execution_count": null,
   "id": "e3652bf0-4393-4110-b244-a0d6c774d229",
   "metadata": {},
   "outputs": [],
   "source": [
    "use_tract = 9880\n",
    "dataId = {'skymap': 'ops_rehersal_prep_2k_v1', 'tract': use_tract}\n",
    "objects = butler.get('objectTable_tract', dataId=dataId)"
   ]
  },
  {
   "cell_type": "code",
   "execution_count": null,
   "id": "14ebc416-2054-456b-8534-85c1e5f2c379",
   "metadata": {},
   "outputs": [],
   "source": [
    "i_ap12_flux = np.asarray(objects.get('i_ap12Flux'))\n",
    "i_cmod_flux = np.asarray(objects.get('i_cModelFlux'))\n",
    "i_gaap_flux = np.asarray(objects.get('i_gaapOptimalFlux'))\n",
    "i_kron_flux = np.asarray(objects.get('i_kronFlux'))\n",
    "i_psf_flux  = np.asarray(objects.get('i_psfFlux'))"
   ]
  },
  {
   "cell_type": "code",
   "execution_count": null,
   "id": "2d35171b-6883-4c2a-a950-404eadb703c2",
   "metadata": {},
   "outputs": [],
   "source": [
    "fig = plt.figure(figsize=(8, 4))\n",
    "plt.hist(i_ap12_flux, bins=20, log=True, histtype='step', color=fclr['u'], label='ap12')\n",
    "plt.hist(i_cmod_flux, bins=20, log=True, histtype='step', color=fclr['g'], label='cmod')\n",
    "plt.hist(i_gaap_flux, bins=40, log=True, histtype='step', color=fclr['r'], label='gaap')\n",
    "plt.hist(i_kron_flux, bins=20, log=True, histtype='step', color=fclr['i'], label='kron')\n",
    "plt.hist(i_psf_flux, bins=20, log=True, histtype='step', color=fclr['z'], label='psf')\n",
    "plt.xlabel('flux')\n",
    "plt.ylabel('# objects')\n",
    "plt.legend(loc='upper right', title='type')\n",
    "plt.show()"
   ]
  },
  {
   "cell_type": "code",
   "execution_count": null,
   "id": "5e942678-6b01-414d-8087-2a4822f3ad86",
   "metadata": {},
   "outputs": [],
   "source": [
    "del i_ap12_flux, i_cmod_flux, i_gaap_flux, i_kron_flux, i_psf_flux"
   ]
  },
  {
   "cell_type": "markdown",
   "id": "c1ed75fd-b6d8-4786-a6ce-ada5a882c0a5",
   "metadata": {},
   "source": [
    "### Plot GaaP optimal VS GaaP 1.0 aperture"
   ]
  },
  {
   "cell_type": "code",
   "execution_count": null,
   "id": "0d6efea2-b3bb-4a19-87e1-da313ff2c1a2",
   "metadata": {},
   "outputs": [],
   "source": [
    "i_gaap_optflux = np.asarray(objects.get('i_gaapOptimalFlux'))\n",
    "i_gaap_1p0flux = np.asarray(objects.get('i_gaap1p0Flux'))\n",
    "\n",
    "tx = np.where((i_gaap_optflux > 0.0) & (i_gaap_1p0flux > 0.0))[0]\n",
    "i_gaap_optmag = -2.5 * np.log10(i_gaap_optflux[tx]) + 31.4\n",
    "i_gaap_1p0mag = -2.5 * np.log10(i_gaap_1p0flux[tx]) + 31.4\n",
    "del tx"
   ]
  },
  {
   "cell_type": "code",
   "execution_count": null,
   "id": "fd48852f-cf7e-47cb-9982-3385279c7d14",
   "metadata": {},
   "outputs": [],
   "source": [
    "fig = plt.figure(figsize=(4, 4))\n",
    "plt.plot(i_gaap_optmag, i_gaap_optmag-i_gaap_1p0mag, 'o', ms=2, mew=0, alpha=0.1, color='black')\n",
    "plt.xlabel('opt')\n",
    "plt.ylabel('opt - ap')\n",
    "plt.show()\n",
    "\n",
    "# fig = plt.figure(figsize=(4, 4))\n",
    "# plt.hist2d(i_gaap_optmag, i_gaap_optmag-i_gaap_1p0mag, bins=30, density=True, norm='log', cmap='Greys')\n",
    "# plt.colorbar()\n",
    "# plt.xlabel('opt')\n",
    "# plt.ylabel('opt - ap')\n",
    "# plt.show()"
   ]
  },
  {
   "cell_type": "markdown",
   "id": "75b4e378-344f-4b6f-87ee-f948e9cc39b8",
   "metadata": {},
   "source": [
    "Zoom in."
   ]
  },
  {
   "cell_type": "code",
   "execution_count": null,
   "id": "11b1d203-3a6a-43ac-b55c-8be21857f27f",
   "metadata": {},
   "outputs": [],
   "source": [
    "fig = plt.figure(figsize=(4, 4))\n",
    "plt.axhline(0.1, color='magenta')\n",
    "plt.axhline(-0.1, color='magenta')\n",
    "plt.plot(i_gaap_optmag, i_gaap_optmag-i_gaap_1p0mag, 'o', ms=2, mew=0, alpha=0.1, color='black')\n",
    "plt.xlim([15, 28])\n",
    "plt.ylim([-0.5, 0.5])\n",
    "plt.xlabel('opt')\n",
    "plt.ylabel('opt - ap')\n",
    "plt.show()"
   ]
  },
  {
   "cell_type": "markdown",
   "id": "0e81771f-e5ec-4f5b-8374-e3b8544b1088",
   "metadata": {
    "execution": {
     "iopub.execute_input": "2024-04-12T21:26:14.682555Z",
     "iopub.status.busy": "2024-04-12T21:26:14.682367Z",
     "iopub.status.idle": "2024-04-12T21:26:14.686247Z",
     "shell.execute_reply": "2024-04-12T21:26:14.685778Z",
     "shell.execute_reply.started": "2024-04-12T21:26:14.682542Z"
    }
   },
   "source": [
    "Does the difference in optimal and aperture 1.0 GaaP fluxes depend on object extendedness? \n",
    "\n",
    "These plots show: yes it does."
   ]
  },
  {
   "cell_type": "code",
   "execution_count": null,
   "id": "183543ac-f003-4c3f-83ed-19ade02d32c6",
   "metadata": {},
   "outputs": [],
   "source": [
    "extendedness = np.asarray(objects.get('i_extendedness'))\n",
    "tx = np.where((i_gaap_optflux > 0.0) & (i_gaap_1p0flux > 0.0))[0]\n",
    "temp = extendedness[tx]\n",
    "\n",
    "fig = plt.figure(figsize=(4, 4))\n",
    "tx1 = np.where(temp <= 0.5)[0]\n",
    "plt.plot(i_gaap_optmag[tx1], i_gaap_optmag[tx1]-i_gaap_1p0mag[tx1], 'o', ms=2, mew=0, alpha=0.1, color='blue')\n",
    "plt.xlim([15, 28])\n",
    "plt.ylim([-4, 1])\n",
    "plt.xlabel('opt')\n",
    "plt.ylabel('opt - ap')\n",
    "plt.title('point-like objects')\n",
    "plt.show()\n",
    "del tx1\n",
    "\n",
    "fig = plt.figure(figsize=(4, 4))\n",
    "tx2 = np.where(temp > 0.5)[0]\n",
    "plt.plot(i_gaap_optmag[tx2], i_gaap_optmag[tx2]-i_gaap_1p0mag[tx2], 'o', ms=2, mew=0, alpha=0.1, color='darkorange')\n",
    "plt.xlim([15, 28])\n",
    "plt.ylim([-4, 1])\n",
    "plt.xlabel('opt')\n",
    "plt.ylabel('opt - ap')\n",
    "plt.title('extended objects')\n",
    "plt.show()\n",
    "del tx2\n",
    "\n",
    "del tx, temp"
   ]
  },
  {
   "cell_type": "markdown",
   "id": "58f02d77-6800-4761-bf6b-3fb940c5141e",
   "metadata": {},
   "source": [
    "What is the fraction of objects \"affected by\" non-matching optimal and aperture GaaP magnitudes?\n",
    "\n",
    "Here we use a difference of 0.1 mag between optimal and aperture GaaP magnitudes to mean \"affected by\".\n",
    "\n",
    "It's 37%, which is large. Unclear what \"optimal\" means"
   ]
  },
  {
   "cell_type": "code",
   "execution_count": null,
   "id": "049389bb-7522-4ee1-b6b8-8e5f942335ea",
   "metadata": {},
   "outputs": [],
   "source": [
    "diffs = i_gaap_optmag-i_gaap_1p0mag\n",
    "tx = np.where(np.absolute(diffs) < 0.1)[0]\n",
    "print(len(tx), len(i_gaap_optmag), len(tx)/len(i_gaap_optmag))\n",
    "del tx"
   ]
  },
  {
   "cell_type": "code",
   "execution_count": null,
   "id": "1e93e7a9-e74c-4ea8-a0f5-b68c82a1c9f3",
   "metadata": {},
   "outputs": [],
   "source": [
    "del i_gaap_optflux, i_gaap_1p0flux\n",
    "del i_gaap_optmag, i_gaap_1p0mag"
   ]
  },
  {
   "cell_type": "markdown",
   "id": "ba2d76f5-0fdb-4c2c-9d46-edb8a8ba17d3",
   "metadata": {},
   "source": [
    "### Multi-band GaaP magnitude distribution"
   ]
  },
  {
   "cell_type": "code",
   "execution_count": null,
   "id": "88676d72-d448-4d6d-912d-ab6a6c729c64",
   "metadata": {},
   "outputs": [],
   "source": [
    "detect_isPrimary = np.asarray(objects.get('detect_isPrimary'))\n",
    "extendedness = np.asarray(objects.get('i_extendedness'))\n",
    "g_flux = np.asarray(objects.get('g_gaapOptimalFlux'))\n",
    "r_flux = np.asarray(objects.get('r_gaapOptimalFlux'))\n",
    "i_flux = np.asarray(objects.get('i_gaapOptimalFlux'))\n",
    "\n",
    "tx = np.where((detect_isPrimary == 1) & (extendedness > 0) & \n",
    "              (g_flux > 0.0) & (r_flux > 0.0) & (i_flux > 0.0))[0]\n",
    "print('Number of extended unique objects detected in gri: ', len(tx))\n",
    "\n",
    "g_mag = -2.50 * np.log10(g_flux[tx]) + 31.4\n",
    "r_mag = -2.50 * np.log10(r_flux[tx]) + 31.4\n",
    "i_mag = -2.50 * np.log10(i_flux[tx]) + 31.4"
   ]
  },
  {
   "cell_type": "code",
   "execution_count": null,
   "id": "195ada1a-2b62-4a63-af8b-84113ffd6b57",
   "metadata": {},
   "outputs": [],
   "source": [
    "fig = plt.figure(figsize=(6, 4))\n",
    "plt.hist(g_mag, bins=20, log=True, histtype='step', color=fclr['g'], label='g')\n",
    "plt.hist(r_mag, bins=20, log=True, histtype='step', color=fclr['r'], label='r')\n",
    "plt.hist(i_mag, bins=20, log=True, histtype='step', color=fclr['i'], label='i')\n",
    "plt.xlabel('GaaP magnitude')\n",
    "plt.ylabel('# extended sources')\n",
    "plt.legend(loc='upper left', title='filter')\n",
    "plt.show()"
   ]
  },
  {
   "cell_type": "markdown",
   "id": "ec9dc104-9323-484b-9180-ce0300321ebc",
   "metadata": {},
   "source": [
    "Clean up."
   ]
  },
  {
   "cell_type": "code",
   "execution_count": null,
   "id": "9e29733d-e14b-4fca-88e5-32f46b4a5399",
   "metadata": {},
   "outputs": [],
   "source": [
    "del g_flux, r_flux, i_flux\n",
    "del detect_isPrimary, extendedness\n",
    "del g_mag, r_mag, i_mag\n",
    "del use_tract, dataId, objects\n",
    "gc.collect()"
   ]
  },
  {
   "cell_type": "code",
   "execution_count": null,
   "id": "663c1bde-d26d-4368-aef7-04b46305e4d4",
   "metadata": {},
   "outputs": [],
   "source": []
  }
 ],
 "metadata": {
  "kernelspec": {
   "display_name": "LSST",
   "language": "python",
   "name": "lsst"
  },
  "language_info": {
   "codemirror_mode": {
    "name": "ipython",
    "version": 3
   },
   "file_extension": ".py",
   "mimetype": "text/x-python",
   "name": "python",
   "nbconvert_exporter": "python",
   "pygments_lexer": "ipython3",
   "version": "3.11.7"
  }
 },
 "nbformat": 4,
 "nbformat_minor": 5
}
