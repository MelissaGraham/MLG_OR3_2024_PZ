{
 "cells": [
  {
   "cell_type": "markdown",
   "id": "1f35d87c-caab-42ad-9e8e-f810f3d68ca5",
   "metadata": {},
   "source": [
    "# OR3 Photo-z Sandbox\n",
    "\n",
    "Author: Melissa Graham\n",
    "\n",
    "Last verified to run: Fri Apr 5 2024\n",
    "\n",
    "LSST Science Pipelines version: Weekly 2024_04\n",
    "\n",
    "The contents of this notebook have relied on the\n",
    "<a href=\"https://github.com/lsst-sitcom/ops_rehearsal_commissioning_2024/blob/main/notebooks/ops_rehearsal_comcam_analysis.ipynb\">ops_rehearsal_comcam_analysis notebook</a>.\n",
    "\n",
    "## Set up\n",
    "\n",
    "Import packages"
   ]
  },
  {
   "cell_type": "code",
   "execution_count": null,
   "id": "d22e1d07-3160-4c30-8b36-19535d99c304",
   "metadata": {},
   "outputs": [],
   "source": [
    "import numpy as np\n",
    "import matplotlib.pyplot as plt\n",
    "from lsst.daf.butler import Butler\n",
    "import gc"
   ]
  },
  {
   "cell_type": "markdown",
   "id": "62478c54-e0df-473c-9e94-9db226a71894",
   "metadata": {},
   "source": [
    "## Access OR3 DRP data\n",
    "\n",
    "### Find the object catalog\n",
    "\n",
    "Based on the information in this Confluence page: https://confluence.lsstcorp.org/display/DM/Campaigns,\n",
    "the Data Release Processing (DRP) for simulated ComCam data at USDF was complete back in March.\n",
    "\n",
    "It is DRP that creates the deepCoadds and Object catalog which is the starting point for photo-z estimates."
   ]
  },
  {
   "cell_type": "code",
   "execution_count": null,
   "id": "41a47094-aec2-4fd4-b9fa-1df7a59b6dfd",
   "metadata": {},
   "outputs": [],
   "source": [
    "repo = '/repo/ops-rehearsal-3-prep'\n",
    "collection = 'u/homer/w_2024_12/DM-43439'\n",
    "butler = Butler(repo, collections=collection)\n",
    "registry = butler.registry"
   ]
  },
  {
   "cell_type": "markdown",
   "id": "65e6981c-00cc-4cba-acbe-be0879b85da7",
   "metadata": {},
   "source": [
    "Determine which `DatasetTypes` exist in the collection.\n",
    "\n",
    "Limit the search to the data products, and do not list configurations, logs, etc."
   ]
  },
  {
   "cell_type": "code",
   "execution_count": null,
   "id": "185a762d-5d53-4ce2-a887-d7d755cbe8c2",
   "metadata": {},
   "outputs": [],
   "source": [
    "# for datasetType in registry.queryDatasetTypes():\n",
    "#     if registry.queryDatasets(datasetType, \n",
    "#                               collections=collection).any(execute=False,\n",
    "#                                                           exact=False):\n",
    "#         if ('_config' not in datasetType.name) and \\\n",
    "#         ('_log' not in datasetType.name) and \\\n",
    "#         ('_metadata' not in datasetType.name) and \\\n",
    "#         ('_resource_usage' not in datasetType.name):\n",
    "#             print(datasetType)"
   ]
  },
  {
   "cell_type": "markdown",
   "id": "63568e42-e14e-433e-b9ef-bf51cabb0a28",
   "metadata": {},
   "source": [
    "Only look for the `object`-related data products.\n",
    "\n",
    "We have `objectTable` and `objectTable_tract`, plus a whole bunch of related datasets."
   ]
  },
  {
   "cell_type": "code",
   "execution_count": null,
   "id": "6ac9b4ce-7e34-4fc5-8e98-af3d33066f10",
   "metadata": {},
   "outputs": [],
   "source": [
    "# for datasetType in registry.queryDatasetTypes():\n",
    "#     if registry.queryDatasets(datasetType, \n",
    "#                               collections=collection).any(execute=False,\n",
    "#                                                           exact=False):\n",
    "#         if ('_config' not in datasetType.name) and \\\n",
    "#         ('_log' not in datasetType.name) and \\\n",
    "#         ('_metadata' not in datasetType.name) and \\\n",
    "#         ('_resource_usage' not in datasetType.name):\n",
    "#             temp = str(datasetType.name)\n",
    "#             if temp.find('object') > -1:\n",
    "#                 print(temp)"
   ]
  },
  {
   "cell_type": "markdown",
   "id": "2bcd43bb-de4c-40ab-96b7-25975a6aeee8",
   "metadata": {},
   "source": [
    "Alternatively, can do it this way and reach the same conclusion."
   ]
  },
  {
   "cell_type": "code",
   "execution_count": null,
   "id": "ff7ac88c-9f33-464b-9c41-000d2864cf73",
   "metadata": {},
   "outputs": [],
   "source": [
    "# for dtype in sorted(registry.queryDatasetTypes(expression=\"*object*\")):\n",
    "#     print(dtype.name)"
   ]
  },
  {
   "cell_type": "markdown",
   "id": "ada2dda8-379c-4e93-9ce0-1143912ad73c",
   "metadata": {
    "execution": {
     "iopub.execute_input": "2024-04-05T19:29:12.991459Z",
     "iopub.status.busy": "2024-04-05T19:29:12.991137Z",
     "iopub.status.idle": "2024-04-05T19:29:12.994654Z",
     "shell.execute_reply": "2024-04-05T19:29:12.994119Z",
     "shell.execute_reply.started": "2024-04-05T19:29:12.991446Z"
    }
   },
   "source": [
    "Get all the butler references for the `objectTable_tract`."
   ]
  },
  {
   "cell_type": "code",
   "execution_count": null,
   "id": "83ab68e4-4b09-46e3-99c5-16bc3d5a34d9",
   "metadata": {},
   "outputs": [],
   "source": [
    "oTt_refs = list(butler.registry.queryDatasets('objectTable_tract'))"
   ]
  },
  {
   "cell_type": "markdown",
   "id": "6b396022-6f3e-445e-93d2-7db9aad22dd8",
   "metadata": {
    "execution": {
     "iopub.execute_input": "2024-04-05T19:26:42.069719Z",
     "iopub.status.busy": "2024-04-05T19:26:42.069162Z",
     "iopub.status.idle": "2024-04-05T19:26:42.072576Z",
     "shell.execute_reply": "2024-04-05T19:26:42.072125Z",
     "shell.execute_reply.started": "2024-04-05T19:26:42.069703Z"
    }
   },
   "source": [
    "What are the `dataId` composed of, for the object table?\n",
    "\n",
    "They would be all the same, so just check the first."
   ]
  },
  {
   "cell_type": "code",
   "execution_count": null,
   "id": "da769f09-bef8-4a4d-acdd-d1413f3fc9a6",
   "metadata": {},
   "outputs": [],
   "source": [
    "for i, ref in enumerate(oTt_refs):\n",
    "    if i == 0:\n",
    "        print(ref.dataId)"
   ]
  },
  {
   "cell_type": "markdown",
   "id": "407e46f5-76f2-48d5-8711-048ffc8fd4c7",
   "metadata": {},
   "source": [
    "### Characterize object catalog\n",
    "\n",
    "#### Number of tracts, and number of visits per tract\n",
    "\n",
    "How many unique tracts are covered by `objectTable_tract`."
   ]
  },
  {
   "cell_type": "code",
   "execution_count": null,
   "id": "44d95c2d-fe05-48bd-9408-bd918e8055ec",
   "metadata": {},
   "outputs": [],
   "source": [
    "tracts = np.unique([ref.dataId['tract'] for ref in oTt_refs])\n",
    "print(tracts)\n",
    "print(len(tracts))"
   ]
  },
  {
   "cell_type": "markdown",
   "id": "c8ad3d1b-9660-404e-81aa-e4f4e3dca944",
   "metadata": {},
   "source": [
    "How many visits were available for the deepCoadd in each tract.\n",
    "\n",
    "See that the numbers go from <10 to >1000. Some tracts will not have enough visits to even coadd (yet, an `objectTable` was made for them...). This shows depth variation over the full region is to be expected."
   ]
  },
  {
   "cell_type": "code",
   "execution_count": null,
   "id": "909761ac-efdb-41d5-9860-929d09c259bb",
   "metadata": {},
   "outputs": [],
   "source": [
    "temp = []\n",
    "for tract in tracts:\n",
    "    visits = list(butler.registry.queryDatasets('visitSummary', tract=tract, \n",
    "                                                skymap='DC2', findFirst=True))\n",
    "    temp.append(len(visits))\n",
    "    # print(tract, len(visits))\n",
    "nvisits = np.asarray(temp, dtype='int')\n",
    "del temp"
   ]
  },
  {
   "cell_type": "markdown",
   "id": "6f0cae75-c2a9-4348-b9a2-d08d670f6ddc",
   "metadata": {},
   "source": [
    "Plot histogram of the number of tracts (y) vs. number of visits/tract (x)."
   ]
  },
  {
   "cell_type": "code",
   "execution_count": null,
   "id": "947e284c-89fa-421b-9291-a53d1ea722c0",
   "metadata": {},
   "outputs": [],
   "source": [
    "fig = plt.figure(figsize=(3, 2))\n",
    "plt.hist(nvisits, bins=20)\n",
    "plt.xlabel('number of visits per tract')\n",
    "plt.ylabel('number of tracts')\n",
    "plt.show()"
   ]
  },
  {
   "cell_type": "markdown",
   "id": "6f0129a4-7ab0-4764-acf4-7be4e429f2f8",
   "metadata": {},
   "source": [
    "#### Show r-band mag distribution for representative tracts\n",
    "\n",
    "How to access the `objectTable_tract` for a given tract."
   ]
  },
  {
   "cell_type": "code",
   "execution_count": null,
   "id": "62205d51-a5eb-4282-b451-b4eb60e0e1ba",
   "metadata": {},
   "outputs": [],
   "source": [
    "dataId = {'skymap': 'ops_rehersal_prep_2k_v1', 'tract': 3384}\n",
    "objects = butler.get('objectTable_tract', dataId=dataId)"
   ]
  },
  {
   "cell_type": "markdown",
   "id": "0769e418-7a6a-4754-a277-2ae17310126c",
   "metadata": {},
   "source": [
    "Show table.\n",
    "\n",
    "Schema is going to be very similar to the DP0.2 Object table.\n",
    "\n",
    "https://dm.lsst.org/sdm_schemas/browser/dp02.html#Object"
   ]
  },
  {
   "cell_type": "code",
   "execution_count": null,
   "id": "4da97cb2-704f-4bad-8d8a-69f5648525f6",
   "metadata": {},
   "outputs": [],
   "source": [
    "# objects"
   ]
  },
  {
   "cell_type": "markdown",
   "id": "5c54fe6c-6da4-4560-ba00-864c5c3b134d",
   "metadata": {
    "execution": {
     "iopub.execute_input": "2024-04-05T19:56:11.389924Z",
     "iopub.status.busy": "2024-04-05T19:56:11.389658Z",
     "iopub.status.idle": "2024-04-05T19:56:11.392682Z",
     "shell.execute_reply": "2024-04-05T19:56:11.392271Z",
     "shell.execute_reply.started": "2024-04-05T19:56:11.389905Z"
    }
   },
   "source": [
    "Number of columns, number of rows."
   ]
  },
  {
   "cell_type": "code",
   "execution_count": null,
   "id": "4c157539-a930-4948-906a-2aeb7835eef6",
   "metadata": {},
   "outputs": [],
   "source": [
    "print('# cols: ', len(objects.columns))\n",
    "print('# rows: ', len(objects))"
   ]
  },
  {
   "cell_type": "markdown",
   "id": "6bf16b52-2c79-4f93-bd76-5b80eb1ba2c1",
   "metadata": {},
   "source": [
    "Extract data into numpy arrays for analysis."
   ]
  },
  {
   "cell_type": "code",
   "execution_count": null,
   "id": "c2717b3a-2679-4934-850e-17efe6735275",
   "metadata": {},
   "outputs": [],
   "source": [
    "r_cModelFlux = np.asarray(objects.get('r_cModelFlux'))\n",
    "detect_isPrimary = np.asarray(objects.get('detect_isPrimary'))"
   ]
  },
  {
   "cell_type": "markdown",
   "id": "0c86a4c4-1ecb-4fe6-a98a-0429ad665bcd",
   "metadata": {
    "execution": {
     "iopub.execute_input": "2024-04-05T20:48:27.920841Z",
     "iopub.status.busy": "2024-04-05T20:48:27.920557Z",
     "iopub.status.idle": "2024-04-05T20:48:27.923786Z",
     "shell.execute_reply": "2024-04-05T20:48:27.923381Z",
     "shell.execute_reply.started": "2024-04-05T20:48:27.920825Z"
    }
   },
   "source": [
    "Calculate magnitudes."
   ]
  },
  {
   "cell_type": "code",
   "execution_count": null,
   "id": "caa75b04-f04f-4114-a820-648a107c6358",
   "metadata": {},
   "outputs": [],
   "source": [
    "tx = np.where((r_cModelFlux > 0.0) & (detect_isPrimary == 1))[0]\n",
    "print(len(tx))\n",
    "r_cModelMag = -2.50 * np.log10(r_cModelFlux[tx]) + 31.4\n",
    "del tx"
   ]
  },
  {
   "cell_type": "markdown",
   "id": "2e608265-bfcb-44f5-a305-afec4ba5dc73",
   "metadata": {
    "execution": {
     "iopub.execute_input": "2024-04-05T20:39:03.143724Z",
     "iopub.status.busy": "2024-04-05T20:39:03.143449Z",
     "iopub.status.idle": "2024-04-05T20:39:03.146102Z",
     "shell.execute_reply": "2024-04-05T20:39:03.145801Z",
     "shell.execute_reply.started": "2024-04-05T20:39:03.143710Z"
    }
   },
   "source": [
    "Plot the magnitude distribution."
   ]
  },
  {
   "cell_type": "code",
   "execution_count": null,
   "id": "d0ccc900-161e-4720-9d64-3c217ece13f4",
   "metadata": {},
   "outputs": [],
   "source": [
    "tx = np.where(r_cModelMag < 50)[0]\n",
    "fig = plt.figure(figsize=(3, 2))\n",
    "plt.hist(r_cModelMag[tx], bins=20, log=True)\n",
    "plt.show()\n",
    "del tx"
   ]
  },
  {
   "cell_type": "markdown",
   "id": "c8b30df7-f953-432d-a805-8f23733ae9c4",
   "metadata": {},
   "source": [
    "Plot distribution of r-band magnitudes for the following tracts (# visits):\n",
    "\n",
    "```\n",
    "9881 8\n",
    "7684 60\n",
    "9638 299\n",
    "7149 602\n",
    "9880 1280\n",
    "```"
   ]
  },
  {
   "cell_type": "code",
   "execution_count": null,
   "id": "a6348814-6beb-42b2-b21a-45bdf7fa98f5",
   "metadata": {},
   "outputs": [],
   "source": [
    "del dataId, objects\n",
    "del r_cModelFlux, detect_isPrimary, r_cModelMag\n",
    "gc.collect()"
   ]
  },
  {
   "cell_type": "code",
   "execution_count": null,
   "id": "5339c56d-eadd-4276-bc5a-1c04b43a8b1a",
   "metadata": {},
   "outputs": [],
   "source": [
    "use_tracts = [9881, 7684, 9638, 7149, 9880]\n",
    "use_nvisits = [8, 60, 299, 602, 1280]\n",
    "\n",
    "fig = plt.figure(figsize=(6, 4))\n",
    "\n",
    "for i, tract in enumerate(use_tracts):\n",
    "    dataId = {'skymap': 'ops_rehersal_prep_2k_v1', 'tract': tract}\n",
    "    objects = butler.get('objectTable_tract', dataId=dataId)\n",
    "    \n",
    "    r_cModelFlux = np.asarray(objects.get('r_cModelFlux'))\n",
    "    detect_isPrimary = np.asarray(objects.get('detect_isPrimary'))\n",
    "    tx = np.where((r_cModelFlux > 0.0) & (detect_isPrimary == 1))[0]\n",
    "    r_cModelMag = -2.50 * np.log10(r_cModelFlux[tx]) + 31.4\n",
    "    del tx\n",
    "    \n",
    "    tx = np.where(r_cModelMag < 50)[0]\n",
    "    plt.hist(r_cModelMag[tx], bins=20, log=True, histtype='step',\n",
    "             label=str(use_nvisits[i]))\n",
    "    \n",
    "    del dataId, objects\n",
    "    del r_cModelFlux, detect_isPrimary, r_cModelMag\n",
    "    gc.collect()\n",
    "\n",
    "plt.legend(loc='upper left')\n",
    "plt.show()"
   ]
  },
  {
   "cell_type": "markdown",
   "id": "4e106280-0d3a-4365-b575-67cc6a995612",
   "metadata": {},
   "source": [
    "We can see too-faint things... ??? "
   ]
  }
 ],
 "metadata": {
  "kernelspec": {
   "display_name": "LSST",
   "language": "python",
   "name": "lsst"
  },
  "language_info": {
   "codemirror_mode": {
    "name": "ipython",
    "version": 3
   },
   "file_extension": ".py",
   "mimetype": "text/x-python",
   "name": "python",
   "nbconvert_exporter": "python",
   "pygments_lexer": "ipython3",
   "version": "3.11.7"
  }
 },
 "nbformat": 4,
 "nbformat_minor": 5
}
